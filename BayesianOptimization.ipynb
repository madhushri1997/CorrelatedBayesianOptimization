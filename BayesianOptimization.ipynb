{
  "nbformat": 4,
  "nbformat_minor": 0,
  "metadata": {
    "colab": {
      "provenance": []
    },
    "kernelspec": {
      "name": "python3",
      "display_name": "Python 3"
    },
    "language_info": {
      "name": "python"
    },
    "gpuClass": "standard"
  },
  "cells": [
    {
      "cell_type": "code",
      "execution_count": 3,
      "metadata": {
        "colab": {
          "base_uri": "https://localhost:8080/"
        },
        "id": "jFZF5YgTfDy5",
        "outputId": "52211788-b3fe-4d31-bae9-f42e446c0638"
      },
      "outputs": [
        {
          "output_type": "stream",
          "name": "stdout",
          "text": [
            "Looking in indexes: https://pypi.org/simple, https://us-python.pkg.dev/colab-wheels/public/simple/\n",
            "Collecting botorch\n",
            "  Downloading botorch-0.8.0-py3-none-any.whl (481 kB)\n",
            "\u001b[K     |████████████████████████████████| 481 kB 5.2 MB/s \n",
            "\u001b[?25hCollecting gpytorch==1.9.0\n",
            "  Downloading gpytorch-1.9.0-py3-none-any.whl (245 kB)\n",
            "\u001b[K     |████████████████████████████████| 245 kB 49.5 MB/s \n",
            "\u001b[?25hRequirement already satisfied: scipy in /usr/local/lib/python3.8/dist-packages (from botorch) (1.7.3)\n",
            "Requirement already satisfied: torch>=1.11 in /usr/local/lib/python3.8/dist-packages (from botorch) (1.13.0+cu116)\n",
            "Collecting pyro-ppl>=1.8.2\n",
            "  Downloading pyro_ppl-1.8.3-py3-none-any.whl (727 kB)\n",
            "\u001b[K     |████████████████████████████████| 727 kB 52.5 MB/s \n",
            "\u001b[?25hRequirement already satisfied: multipledispatch in /usr/local/lib/python3.8/dist-packages (from botorch) (0.6.0)\n",
            "Collecting linear-operator==0.2.0\n",
            "  Downloading linear_operator-0.2.0-py3-none-any.whl (152 kB)\n",
            "\u001b[K     |████████████████████████████████| 152 kB 25.4 MB/s \n",
            "\u001b[?25hRequirement already satisfied: scikit-learn in /usr/local/lib/python3.8/dist-packages (from gpytorch==1.9.0->botorch) (1.0.2)\n",
            "Requirement already satisfied: tqdm>=4.36 in /usr/local/lib/python3.8/dist-packages (from pyro-ppl>=1.8.2->botorch) (4.64.1)\n",
            "Collecting pyro-api>=0.1.1\n",
            "  Downloading pyro_api-0.1.2-py3-none-any.whl (11 kB)\n",
            "Requirement already satisfied: numpy>=1.7 in /usr/local/lib/python3.8/dist-packages (from pyro-ppl>=1.8.2->botorch) (1.21.6)\n",
            "Requirement already satisfied: opt-einsum>=2.3.2 in /usr/local/lib/python3.8/dist-packages (from pyro-ppl>=1.8.2->botorch) (3.3.0)\n",
            "Requirement already satisfied: typing-extensions in /usr/local/lib/python3.8/dist-packages (from torch>=1.11->botorch) (4.4.0)\n",
            "Requirement already satisfied: six in /usr/local/lib/python3.8/dist-packages (from multipledispatch->botorch) (1.15.0)\n",
            "Requirement already satisfied: threadpoolctl>=2.0.0 in /usr/local/lib/python3.8/dist-packages (from scikit-learn->gpytorch==1.9.0->botorch) (3.1.0)\n",
            "Requirement already satisfied: joblib>=0.11 in /usr/local/lib/python3.8/dist-packages (from scikit-learn->gpytorch==1.9.0->botorch) (1.2.0)\n",
            "Installing collected packages: pyro-api, linear-operator, pyro-ppl, gpytorch, botorch\n",
            "Successfully installed botorch-0.8.0 gpytorch-1.9.0 linear-operator-0.2.0 pyro-api-0.1.2 pyro-ppl-1.8.3\n"
          ]
        }
      ],
      "source": [
        "!pip install botorch"
      ]
    },
    {
      "cell_type": "code",
      "source": [
        "!pip install gpytorch"
      ],
      "metadata": {
        "colab": {
          "base_uri": "https://localhost:8080/"
        },
        "id": "Yd6gMydbfGWa",
        "outputId": "1174c517-ec13-4c6f-b837-fb3b16805d50"
      },
      "execution_count": 4,
      "outputs": [
        {
          "output_type": "stream",
          "name": "stdout",
          "text": [
            "Looking in indexes: https://pypi.org/simple, https://us-python.pkg.dev/colab-wheels/public/simple/\n",
            "Requirement already satisfied: gpytorch in /usr/local/lib/python3.8/dist-packages (1.9.0)\n",
            "Requirement already satisfied: scikit-learn in /usr/local/lib/python3.8/dist-packages (from gpytorch) (1.0.2)\n",
            "Requirement already satisfied: linear-operator>=0.1.1 in /usr/local/lib/python3.8/dist-packages (from gpytorch) (0.2.0)\n",
            "Requirement already satisfied: torch>=1.11 in /usr/local/lib/python3.8/dist-packages (from linear-operator>=0.1.1->gpytorch) (1.13.0+cu116)\n",
            "Requirement already satisfied: scipy in /usr/local/lib/python3.8/dist-packages (from linear-operator>=0.1.1->gpytorch) (1.7.3)\n",
            "Requirement already satisfied: typing-extensions in /usr/local/lib/python3.8/dist-packages (from torch>=1.11->linear-operator>=0.1.1->gpytorch) (4.4.0)\n",
            "Requirement already satisfied: numpy>=1.14.6 in /usr/local/lib/python3.8/dist-packages (from scikit-learn->gpytorch) (1.21.6)\n",
            "Requirement already satisfied: threadpoolctl>=2.0.0 in /usr/local/lib/python3.8/dist-packages (from scikit-learn->gpytorch) (3.1.0)\n",
            "Requirement already satisfied: joblib>=0.11 in /usr/local/lib/python3.8/dist-packages (from scikit-learn->gpytorch) (1.2.0)\n"
          ]
        }
      ]
    },
    {
      "cell_type": "code",
      "source": [
        "!pip install --upgrade git+https://github.com/cornellius-gp/gpytorch.git"
      ],
      "metadata": {
        "colab": {
          "base_uri": "https://localhost:8080/"
        },
        "id": "CPPC7V7TfJaW",
        "outputId": "b977e101-644a-4127-9f8e-41f6467d8a3f"
      },
      "execution_count": 5,
      "outputs": [
        {
          "output_type": "stream",
          "name": "stdout",
          "text": [
            "Looking in indexes: https://pypi.org/simple, https://us-python.pkg.dev/colab-wheels/public/simple/\n",
            "Collecting git+https://github.com/cornellius-gp/gpytorch.git\n",
            "  Cloning https://github.com/cornellius-gp/gpytorch.git to /tmp/pip-req-build-g9vx6xvj\n",
            "  Running command git clone -q https://github.com/cornellius-gp/gpytorch.git /tmp/pip-req-build-g9vx6xvj\n",
            "  Installing build dependencies ... \u001b[?25l\u001b[?25hdone\n",
            "  Getting requirements to build wheel ... \u001b[?25l\u001b[?25hdone\n",
            "    Preparing wheel metadata ... \u001b[?25l\u001b[?25hdone\n",
            "Requirement already satisfied: torch>=1.11 in /usr/local/lib/python3.8/dist-packages (from gpytorch==1.9.1.dev45+gcda4bc54) (1.13.0+cu116)\n",
            "Requirement already satisfied: linear-operator>=0.2.0 in /usr/local/lib/python3.8/dist-packages (from gpytorch==1.9.1.dev45+gcda4bc54) (0.2.0)\n",
            "Requirement already satisfied: scikit-learn in /usr/local/lib/python3.8/dist-packages (from gpytorch==1.9.1.dev45+gcda4bc54) (1.0.2)\n",
            "Requirement already satisfied: scipy in /usr/local/lib/python3.8/dist-packages (from linear-operator>=0.2.0->gpytorch==1.9.1.dev45+gcda4bc54) (1.7.3)\n",
            "Requirement already satisfied: typing-extensions in /usr/local/lib/python3.8/dist-packages (from torch>=1.11->gpytorch==1.9.1.dev45+gcda4bc54) (4.4.0)\n",
            "Requirement already satisfied: numpy>=1.14.6 in /usr/local/lib/python3.8/dist-packages (from scikit-learn->gpytorch==1.9.1.dev45+gcda4bc54) (1.21.6)\n",
            "Requirement already satisfied: joblib>=0.11 in /usr/local/lib/python3.8/dist-packages (from scikit-learn->gpytorch==1.9.1.dev45+gcda4bc54) (1.2.0)\n",
            "Requirement already satisfied: threadpoolctl>=2.0.0 in /usr/local/lib/python3.8/dist-packages (from scikit-learn->gpytorch==1.9.1.dev45+gcda4bc54) (3.1.0)\n",
            "Building wheels for collected packages: gpytorch\n",
            "  Building wheel for gpytorch (PEP 517) ... \u001b[?25l\u001b[?25hdone\n",
            "  Created wheel for gpytorch: filename=gpytorch-1.9.1.dev45+gcda4bc54-py3-none-any.whl size=250551 sha256=6f626fb1f24f082666686ae058c2b5001155297683efa1ca078927645403ded2\n",
            "  Stored in directory: /tmp/pip-ephem-wheel-cache-c34ticnl/wheels/b3/fe/cc/a6ff380918f3aa85afeb4f579166648926bc49eeed93812d7d\n",
            "Successfully built gpytorch\n",
            "Installing collected packages: gpytorch\n",
            "  Attempting uninstall: gpytorch\n",
            "    Found existing installation: gpytorch 1.9.0\n",
            "    Uninstalling gpytorch-1.9.0:\n",
            "      Successfully uninstalled gpytorch-1.9.0\n",
            "\u001b[31mERROR: pip's dependency resolver does not currently take into account all the packages that are installed. This behaviour is the source of the following dependency conflicts.\n",
            "botorch 0.8.0 requires gpytorch==1.9.0, but you have gpytorch 1.9.1.dev45+gcda4bc54 which is incompatible.\u001b[0m\n",
            "Successfully installed gpytorch-1.9.1.dev45+gcda4bc54\n"
          ]
        }
      ]
    },
    {
      "cell_type": "code",
      "source": [
        "!pip install --upgrade git+https://github.com/cornellius-gp/linear_operator.git"
      ],
      "metadata": {
        "colab": {
          "base_uri": "https://localhost:8080/"
        },
        "id": "Nz0Ot260nbNT",
        "outputId": "cda629b3-5a9f-4c29-a4a1-f38612e136a1"
      },
      "execution_count": 6,
      "outputs": [
        {
          "output_type": "stream",
          "name": "stdout",
          "text": [
            "Looking in indexes: https://pypi.org/simple, https://us-python.pkg.dev/colab-wheels/public/simple/\n",
            "Collecting git+https://github.com/cornellius-gp/linear_operator.git\n",
            "  Cloning https://github.com/cornellius-gp/linear_operator.git to /tmp/pip-req-build-1cfz2_dy\n",
            "  Running command git clone -q https://github.com/cornellius-gp/linear_operator.git /tmp/pip-req-build-1cfz2_dy\n",
            "  Installing build dependencies ... \u001b[?25l\u001b[?25hdone\n",
            "  Getting requirements to build wheel ... \u001b[?25l\u001b[?25hdone\n",
            "    Preparing wheel metadata ... \u001b[?25l\u001b[?25hdone\n",
            "Requirement already satisfied: scipy in /usr/local/lib/python3.8/dist-packages (from linear-operator==0.3.0) (1.7.3)\n",
            "Requirement already satisfied: numpy<1.23.0,>=1.16.5 in /usr/local/lib/python3.8/dist-packages (from scipy->linear-operator==0.3.0) (1.21.6)\n",
            "Building wheels for collected packages: linear-operator\n",
            "  Building wheel for linear-operator (PEP 517) ... \u001b[?25l\u001b[?25hdone\n",
            "  Created wheel for linear-operator: filename=linear_operator-0.3.0-py3-none-any.whl size=155628 sha256=b7a3cb3ea87b7918c76031106ecb13e5ac39d49a60209d118b240caa39dd9446\n",
            "  Stored in directory: /tmp/pip-ephem-wheel-cache-8igs2zet/wheels/fa/3e/be/f1fdd362662b6a3d096db5b79a11e4cea55431328f3d35a371\n",
            "Successfully built linear-operator\n",
            "Installing collected packages: linear-operator\n",
            "  Attempting uninstall: linear-operator\n",
            "    Found existing installation: linear-operator 0.2.0\n",
            "    Uninstalling linear-operator-0.2.0:\n",
            "      Successfully uninstalled linear-operator-0.2.0\n",
            "\u001b[31mERROR: pip's dependency resolver does not currently take into account all the packages that are installed. This behaviour is the source of the following dependency conflicts.\n",
            "botorch 0.8.0 requires gpytorch==1.9.0, but you have gpytorch 1.9.1.dev45+gcda4bc54 which is incompatible.\n",
            "botorch 0.8.0 requires linear-operator==0.2.0, but you have linear-operator 0.3.0 which is incompatible.\u001b[0m\n",
            "Successfully installed linear-operator-0.3.0\n"
          ]
        }
      ]
    },
    {
      "cell_type": "code",
      "source": [
        "import botorch"
      ],
      "metadata": {
        "id": "r8IrvRFVng9u"
      },
      "execution_count": 7,
      "outputs": []
    },
    {
      "cell_type": "code",
      "source": [
        "from __future__ import annotations\n",
        "\n",
        "import math\n",
        "from typing import Any, Dict, List, Optional, Tuple, Union\n",
        "\n",
        "import torch\n",
        "from botorch.acquisition.objective import PosteriorTransform\n",
        "from botorch.models.gp_regression import MIN_INFERRED_NOISE_LEVEL\n",
        "from botorch.models.gpytorch import GPyTorchModel, MultiTaskGPyTorchModel\n",
        "from botorch.models.model import FantasizeMixin\n",
        "from botorch.models.transforms.input import InputTransform\n",
        "from botorch.models.transforms.outcome import OutcomeTransform\n",
        "from botorch.posteriors.multitask import MultitaskGPPosterior\n",
        "\n",
        "from botorch.utils.datasets import SupervisedDataset\n",
        "from gpytorch.constraints import GreaterThan,LessThan\n",
        "from gpytorch.distributions.multitask_multivariate_normal import (\n",
        "    MultitaskMultivariateNormal,\n",
        ")\n",
        "from gpytorch.distributions.multivariate_normal import MultivariateNormal\n",
        "from gpytorch.kernels.index_kernel import IndexKernel\n",
        "from gpytorch.kernels.matern_kernel import MaternKernel\n",
        "from gpytorch.kernels.multitask_kernel import MultitaskKernel\n",
        "from gpytorch.kernels.scale_kernel import ScaleKernel\n",
        "from gpytorch.likelihoods.gaussian_likelihood import (\n",
        "    FixedNoiseGaussianLikelihood,\n",
        "    GaussianLikelihood,\n",
        ")\n",
        "from gpytorch.likelihoods.multitask_gaussian_likelihood import MultitaskGaussianLikelihood\n",
        "\n",
        "from gpytorch.means import MultitaskMean\n",
        "from gpytorch.means.constant_mean import ConstantMean\n",
        "from gpytorch.models.exact_gp import ExactGP\n",
        "from gpytorch.module import Module\n",
        "from gpytorch.priors import LKJCovariancePrior\n",
        "from gpytorch.priors.wishart_prior import InverseWishartPrior\n",
        "from gpytorch.priors.prior import Prior\n",
        "from gpytorch.priors.smoothed_box_prior import SmoothedBoxPrior\n",
        "from gpytorch.priors.torch_priors import GammaPrior\n",
        "from gpytorch.settings import detach_test_caches\n",
        "from gpytorch.utils.errors import CachingError\n",
        "from gpytorch.utils.memoize import cached, pop_from_cache\n",
        "from linear_operator.operators import (\n",
        "    BatchRepeatLinearOperator,\n",
        "    CatLinearOperator,\n",
        "    DiagLinearOperator,\n",
        "    KroneckerProductDiagLinearOperator,\n",
        "    KroneckerProductLinearOperator,\n",
        "    RootLinearOperator,\n",
        "    to_linear_operator,\n",
        ")\n",
        "from torch import Tensor"
      ],
      "metadata": {
        "id": "wzYsBGv3nic5"
      },
      "execution_count": 8,
      "outputs": []
    },
    {
      "cell_type": "code",
      "source": [
        "from botorch.optim.fit import fit_gpytorch_torch\n",
        "from botorch.acquisition.monte_carlo import qExpectedImprovement\n",
        "\n",
        "from botorch.exceptions import BadInitialCandidatesWarning\n",
        "\n",
        "import time\n",
        "import warnings"
      ],
      "metadata": {
        "id": "oS84NqZtni8w"
      },
      "execution_count": 9,
      "outputs": []
    },
    {
      "cell_type": "code",
      "source": [
        "import numpy as np"
      ],
      "metadata": {
        "id": "CQgIGxI8nk0V"
      },
      "execution_count": 10,
      "outputs": []
    },
    {
      "cell_type": "code",
      "source": [
        "import os\n",
        "import torch\n",
        "\n",
        "device = torch.device(\"cuda:3\" if torch.cuda.is_available() else \"cpu\")\n",
        "dtype = torch.double\n",
        "SMOKE_TEST = os.environ.get(\"SMOKE_TEST\")"
      ],
      "metadata": {
        "id": "sXSMLrHnnmVl"
      },
      "execution_count": 11,
      "outputs": []
    },
    {
      "cell_type": "code",
      "source": [
        "device"
      ],
      "metadata": {
        "colab": {
          "base_uri": "https://localhost:8080/"
        },
        "id": "1EXvjOmpnuxZ",
        "outputId": "698459dd-6910-4156-d77f-92df20ca12ad"
      },
      "execution_count": 12,
      "outputs": [
        {
          "output_type": "execute_result",
          "data": {
            "text/plain": [
              "device(type='cpu')"
            ]
          },
          "metadata": {},
          "execution_count": 12
        }
      ]
    },
    {
      "cell_type": "code",
      "source": [
        "from botorch.test_functions import Hartmann, Ackley,Michalewicz,Cosine8\n",
        "from botorch.acquisition import MCAcquisitionObjective\n",
        "\n",
        "\n",
        "\n",
        "\n",
        "def outcome_constraint(samples):\n",
        "    \"\"\"L1 constraint; feasible if less than or equal to zero.\"\"\"\n",
        "    #return samples.sum(dim=-1) - 3\n",
        "    #neg_hartmann6 = Hartmann(negate=True)\n",
        "    #return neg_hartmann6(samples) - 2.9\n",
        "    ackley = Cosine8()\n",
        "\n",
        "    return ackley(samples) -0.5\n",
        "\n",
        "def weighted_obj(samples):\n",
        "\n",
        "  #neg_hartmann6 = Hartmann(negate=True)\n",
        "  ackley = Cosine8()\n",
        "  #return neg_hartmann6(samples) * (outcome_constraint(samples) <= 0).type_as(samples)\n",
        "  return ackley(samples)*(outcome_constraint(samples) <= 0).type_as(samples)\n",
        "  \n",
        "class Hartmann_Objective(MCAcquisitionObjective):\n",
        "\n",
        "    def forward(self, samples, X=None):\n",
        " \n",
        "      #neg_hartmann6 = Hartmann(negate=True, dim=6)\n",
        "      ackley = Cosine8()\n",
        "      #return neg_hartmann6(samples)\n",
        "      return ackley(samples)\n",
        "\n",
        "    "
      ],
      "metadata": {
        "id": "YAANCpRrnrrq"
      },
      "execution_count": 13,
      "outputs": []
    },
    {
      "cell_type": "code",
      "source": [
        "from botorch.optim import optimize_acqf\n",
        "\n",
        "bounds = torch.tensor([[0.0] * 6, [1.0] * 6])\n",
        "\n",
        "BATCH_SIZE = 3\n",
        "NUM_RESTARTS = 10 \n",
        "RAW_SAMPLES = 256\n",
        "\n",
        "\n",
        "def optimize_acqf_and_get_observation(acq_func):\n",
        "    \"\"\"Optimizes the acquisition function, and returns a new candidate and a noisy observation.\"\"\"\n",
        "    # optimize\n",
        "    candidates, _ = optimize_acqf(\n",
        "        acq_function=acq_func,\n",
        "        bounds=bounds,\n",
        "        q=BATCH_SIZE,\n",
        "        num_restarts=NUM_RESTARTS,\n",
        "        raw_samples=RAW_SAMPLES,  # used for intialization heuristic\n",
        "        options={\"batch_limit\": 5, \"maxiter\": 200},\n",
        "    )\n",
        "    # observe new values \n",
        "    new_x = candidates.detach()\n",
        "    #obj = Hartmann(negate=True)\n",
        "    obj = Cosine8()\n",
        "    new_obj = obj(new_x).unsqueeze(-1)  # add output dimension\n",
        "    new_con = outcome_constraint(new_x).unsqueeze(-1)  # add output dimension\n",
        "\n",
        "    return new_x, new_obj, new_con\n",
        "\n",
        "def update_random_observations(best_random):\n",
        "    \"\"\"Simulates a random policy by taking a the current list of best values observed randomly,\n",
        "    drawing a new random point, observing its value, and updating the list.\n",
        "    \"\"\"\n",
        "    rand_x = torch.rand(BATCH_SIZE, 6)\n",
        "    next_random_best = weighted_obj(rand_x).max().item()\n",
        "    best_random.append(max(best_random[-1], next_random_best))       \n",
        "    return best_random"
      ],
      "metadata": {
        "id": "DpGlXI0Xnuv_"
      },
      "execution_count": 14,
      "outputs": []
    },
    {
      "cell_type": "code",
      "source": [
        "\n",
        "from botorch.acquisition.objective import ConstrainedMCObjective\n",
        "\n",
        "\n",
        "def obj_callable(Z):\n",
        "    return Z[..., 0]\n",
        "\n",
        "\n",
        "def constraint_callable(Z):\n",
        "    return Z[..., 1]\n",
        "\n",
        "\n",
        "# define a feasibility-weighted objective for optimization\n",
        "constrained_obj = ConstrainedMCObjective(\n",
        "    objective=obj_callable,\n",
        "    constraints=[constraint_callable],\n",
        ")"
      ],
      "metadata": {
        "id": "SffY8AQKnyC1"
      },
      "execution_count": 15,
      "outputs": []
    },
    {
      "cell_type": "code",
      "source": [
        "from botorch.acquisition import MCAcquisitionObjective\n",
        "import math\n",
        "from typing import Optional\n",
        "from botorch.models import KroneckerMultiTaskGP\n",
        "from botorch.acquisition.monte_carlo import MCAcquisitionFunction, MCAcquisitionObjective\n",
        "from botorch.models.model import Model\n",
        "from botorch.sampling.qmc import NormalQMCEngine \n",
        "from botorch.utils import t_batch_mode_transform\n",
        "from torch import Tensor\n",
        "from botorch.sampling.normal import SobolQMCNormalSampler\n",
        "\n",
        "\n",
        "class qECI(MCAcquisitionFunction):\n",
        "    def __init__(\n",
        "        self,\n",
        "        model: Model,\n",
        "        best_f: Union[float, Tensor],\n",
        "        objective: Optional[MCAcquisitionObjective] = None\n",
        "    ) -> None:\n",
        "        # we use the AcquisitionFunction constructor, since that of\n",
        "        # MCAcquisitionFunction performs some validity checks that we don't want here\n",
        "        super(MCAcquisitionFunction, self).__init__(model=model)\n",
        "\n",
        "        if objective is None:\n",
        "          self.objective = constrained_obj\n",
        "        self.best_f= best_f\n",
        "        \n",
        "        self.sampler = SobolQMCNormalSampler(sample_shape=torch.Size([256]))\n",
        "\n",
        "    @t_batch_mode_transform()\n",
        "    def forward(self, X: Tensor) -> Tensor:\n",
        "        \"\"\"Evaluate scalarized qECI on the candidate set `X`.\n",
        "\n",
        "        Args:\n",
        "            X: A `(b) x q x d`-dim Tensor of `(b)` t-batches with `q` `d`-dim\n",
        "                design points each\n",
        "        \"\"\"\n",
        "\n",
        "        #posterior = self.model.posterior(\n",
        "        #    X=X, posterior_transform=self.posterior_transform\n",
        "        #)\n",
        "        #samples = self.get_posterior_samples(posterior)\n",
        "        #obj = self.objective(samples, X=X)\n",
        "        #obj = (obj - self.best_f.unsqueeze(-1).to(obj)).clamp_min(0)\n",
        "        #q_ei = obj.max(dim=-1)[0].mean(dim=0)\n",
        "        \n",
        "       \n",
        "        #compute posterior quantities\n",
        "        posterior = self.model.posterior(X=X)\n",
        "        samples = self.get_posterior_samples(posterior)\n",
        "        \n",
        "        objective_samples = samples.matmul(torch.Tensor([1,0]).double()) \n",
        "        constraint_samples = samples.matmul(torch.Tensor([0,1]).double())  # b x q\n",
        "        \n",
        "        \n",
        "        obj = (objective_samples-self.best_f).clamp_min(0)\n",
        "        \n",
        "        obj = obj * (constraint_samples <= 0).type_as(constraint_samples)\n",
        "    \n",
        "        q_eci = obj.max(dim=-1)[0].mean(dim=0)\n",
        "\n",
        "        return q_eci\n",
        "          "
      ],
      "metadata": {
        "id": "tC2n7eayn2r1"
      },
      "execution_count": 16,
      "outputs": []
    },
    {
      "cell_type": "code",
      "source": [
        "class KroneckerMultiTaskGP_m(ExactGP, GPyTorchModel, FantasizeMixin):\n",
        "    \"\"\"Multi-task GP with Kronecker structure, using an ICM kernel.\n",
        "\n",
        "    This model assumes the \"block design\" case, i.e., it requires that all tasks\n",
        "    are observed at all data points.\n",
        "\n",
        "    For posterior sampling, this model uses Matheron's rule [Doucet2010sampl] to compute\n",
        "    the posterior over all tasks as in [Maddox2021bohdo] by exploiting Kronecker\n",
        "    structure.\n",
        "\n",
        "    When a multi-fidelity model has Kronecker structure, this means there is one\n",
        "    covariance kernel over the fidelity features (call it `K_f`) and another over\n",
        "    the rest of the input parameters (call it `K_i`), and the resulting covariance\n",
        "    across inputs and fidelities is given by the Kronecker product of the two\n",
        "    covariance matrices. This is equivalent to saying the covariance between\n",
        "    two input and feature pairs is given by\n",
        "\n",
        "    K((parameter_1, fidelity_1), (parameter_2, fidelity_2))\n",
        "        = K_f(fidelity_1, fidelity_2) * K_i(parameter_1, parameter_2).\n",
        "\n",
        "    Then the covariance matrix of `n_i` parameters and `n_f` fidelities can be\n",
        "    codified as a Kronecker product of an `n_i x n_i` matrix and an\n",
        "    `n_f x n_f` matrix, which is far more parsimonious than specifying the\n",
        "    whole `(n_i * n_f) x (n_i * n_f)` covariance matrix.\n",
        "\n",
        "    Example:\n",
        "        >>> train_X = torch.rand(10, 2)\n",
        "        >>> train_Y = torch.cat([f_1(X), f_2(X)], dim=-1)\n",
        "        >>> model = KroneckerMultiTaskGP(train_X, train_Y)\n",
        "    \"\"\"\n",
        "\n",
        "    def __init__(\n",
        "        self,\n",
        "        train_X: Tensor,\n",
        "        train_Y: Tensor,\n",
        "        likelihood: Optional[MultitaskGaussianLikelihood] = None,\n",
        "        data_covar_module: Optional[Module] = None,\n",
        "        task_covar_prior: Optional[Prior] = None,\n",
        "        rank: Optional[int] = None,\n",
        "        input_transform: Optional[InputTransform] = None,\n",
        "        outcome_transform: Optional[OutcomeTransform] = None,\n",
        "        **kwargs: Any,\n",
        "    ) -> None:\n",
        "        r\"\"\"\n",
        "        Args:\n",
        "            train_X: A `batch_shape x n x d` tensor of training features.\n",
        "            train_Y: A `batch_shape x n x m` tensor of training observations.\n",
        "            likelihood: A `MultitaskGaussianLikelihood`. If omitted, uses a\n",
        "                `MultitaskGaussianLikelihood` with a `GammaPrior(1.1, 0.05)`\n",
        "                noise prior.\n",
        "            data_covar_module: The module computing the covariance (Kernel) matrix\n",
        "                in data space. If omitted, use a `MaternKernel`.\n",
        "            task_covar_prior : A Prior on the task covariance matrix. Must operate\n",
        "                on p.s.d. matrices. A common prior for this is the `LKJ` prior. If\n",
        "                omitted, uses `LKJCovariancePrior` with `eta` parameter as specified\n",
        "                in the keyword arguments (if not specified, use `eta=1.5`).\n",
        "            rank: The rank of the ICM kernel. If omitted, use a full rank kernel.\n",
        "            kwargs: Additional arguments to override default settings of priors,\n",
        "                including:\n",
        "                - eta: The eta parameter on the default LKJ task_covar_prior.\n",
        "                A value of 1.0 is uninformative, values <1.0 favor stronger\n",
        "                correlations (in magnitude), correlations vanish as eta -> inf.\n",
        "                - sd_prior: A scalar prior over nonnegative numbers, which is used\n",
        "                for the default LKJCovariancePrior task_covar_prior.\n",
        "                - likelihood_rank: The rank of the task covariance matrix to fit.\n",
        "                Defaults to 0 (which corresponds to a diagonal covariance matrix).\n",
        "        \"\"\"\n",
        "        with torch.no_grad():\n",
        "            transformed_X = self.transform_inputs(\n",
        "                X=train_X, input_transform=input_transform\n",
        "            )\n",
        "        if outcome_transform is not None:\n",
        "            train_Y, _ = outcome_transform(train_Y)\n",
        "\n",
        "        self._validate_tensor_args(X=transformed_X, Y=train_Y)\n",
        "        self._num_outputs = train_Y.shape[-1]\n",
        "        batch_shape, ard_num_dims = train_X.shape[:-2], train_X.shape[-1]\n",
        "        num_tasks = train_Y.shape[-1]\n",
        "\n",
        "        if rank is None:\n",
        "            rank = num_tasks\n",
        "        if likelihood is None:\n",
        "            noise_prior = GammaPrior(1.05, 0.05)\n",
        "            noise_prior_mode = (noise_prior.concentration - 1) / noise_prior.rate\n",
        "            likelihood = MultitaskGaussianLikelihood(\n",
        "                num_tasks=num_tasks,\n",
        "                batch_shape=batch_shape,\n",
        "                noise_prior=noise_prior,\n",
        "                noise_constraint=GreaterThan(\n",
        "                    MIN_INFERRED_NOISE_LEVEL,\n",
        "                    transform=None,\n",
        "                    initial_value=noise_prior_mode,\n",
        "                ),\n",
        "                rank=kwargs.get(\"likelihood_rank\", 0),\n",
        "            )\n",
        "        if task_covar_prior is None:\n",
        "            task_covar_prior = LKJCovariancePrior(\n",
        "                n=num_tasks,\n",
        "                eta=torch.tensor(kwargs.get(\"eta\", 1.5)).to(train_X),\n",
        "                sd_prior=kwargs.get(\n",
        "                    \"sd_prior\",\n",
        "                    SmoothedBoxPrior(math.exp(-6), math.exp(1.25), 0.05),\n",
        "                ),\n",
        "            )\n",
        "        super().__init__(train_X, train_Y, likelihood)\n",
        "        self.mean_module = MultitaskMean(\n",
        "            base_means=ConstantMean(batch_shape=batch_shape), num_tasks=num_tasks\n",
        "        )\n",
        "        if data_covar_module is None:\n",
        "            data_covar_module = MaternKernel(\n",
        "                nu=2.5,\n",
        "                ard_num_dims=ard_num_dims,\n",
        "                lengthscale_prior=GammaPrior(3.0, 6.0),\n",
        "                batch_shape=batch_shape,\n",
        "            )\n",
        "        else:\n",
        "            data_covar_module = data_covar_module\n",
        "\n",
        "        self.covar_module = MultitaskKernel(\n",
        "            data_covar_module=data_covar_module,\n",
        "            num_tasks=num_tasks,\n",
        "            rank=rank,\n",
        "            batch_shape=batch_shape,\n",
        "            task_covar_prior=task_covar_prior,\n",
        "        )\n",
        "\n",
        "        if outcome_transform is not None:\n",
        "            self.outcome_transform = outcome_transform\n",
        "        if input_transform is not None:\n",
        "            self.input_transform = input_transform\n",
        "        self.to(train_X)\n",
        "\n",
        "    def forward(self, X: Tensor) -> MultitaskMultivariateNormal:\n",
        "        if self.training:\n",
        "            X = self.transform_inputs(X)\n",
        "\n",
        "        mean_x = self.mean_module(X)\n",
        "        covar_x = self.covar_module(X)\n",
        "        return MultitaskMultivariateNormal(mean_x, covar_x)\n",
        "\n",
        "\n",
        "    @property\n",
        "    def _task_covar_matrix(self):\n",
        "        res = self.covar_module.task_covar_module.covar_matrix\n",
        "        if detach_test_caches.on():\n",
        "            res = res.detach()\n",
        "        return res\n",
        "\n",
        "    @property\n",
        "    @cached(name=\"train_full_covar\")\n",
        "    def train_full_covar(self):\n",
        "        train_x = self.transform_inputs(self.train_inputs[0])\n",
        "\n",
        "        # construct Kxx \\otimes Ktt\n",
        "        train_full_covar = self.covar_module(train_x).evaluate_kernel()\n",
        "        if detach_test_caches.on():\n",
        "            train_full_covar = train_full_covar.detach()\n",
        "        return train_full_covar\n",
        "\n",
        "    @property\n",
        "    @cached(name=\"predictive_mean_cache\")\n",
        "    def predictive_mean_cache(self):\n",
        "        train_x = self.transform_inputs(self.train_inputs[0])\n",
        "        train_noise = self.likelihood._shaped_noise_covar(train_x.shape)\n",
        "        if detach_test_caches.on():\n",
        "            train_noise = train_noise.detach()\n",
        "\n",
        "        train_diff = self.train_targets - self.mean_module(train_x)\n",
        "        train_solve = (self.train_full_covar + train_noise).inv_matmul(\n",
        "            train_diff.reshape(*train_diff.shape[:-2], -1)\n",
        "        )\n",
        "        if detach_test_caches.on():\n",
        "            train_solve = train_solve.detach()\n",
        "\n",
        "        return train_solve\n",
        "\n",
        "    def posterior(\n",
        "        self,\n",
        "        X: Tensor,\n",
        "        output_indices: Optional[List[int]] = None,\n",
        "        observation_noise: Union[bool, Tensor] = False,\n",
        "        posterior_transform: Optional[PosteriorTransform] = None,\n",
        "        **kwargs: Any,\n",
        "    ) -> MultitaskGPPosterior:\n",
        "        self.eval()\n",
        "\n",
        "        if posterior_transform is not None:\n",
        "            # this could be very costly, disallow for now\n",
        "            raise NotImplementedError(\n",
        "                \"Posterior transforms currently not supported for \"\n",
        "                f\"{self.__class__.__name__}\"\n",
        "            )\n",
        "\n",
        "        X = self.transform_inputs(X)\n",
        "        train_x = self.transform_inputs(self.train_inputs[0])\n",
        "\n",
        "        # construct Ktt\n",
        "        task_covar = self._task_covar_matrix\n",
        "        task_rootlt = self._task_covar_matrix.root_decomposition(\n",
        "            method=\"diagonalization\"\n",
        "        )\n",
        "        task_root = task_rootlt.root\n",
        "        if task_covar.batch_shape != X.shape[:-2]:\n",
        "            task_covar = BatchRepeatLinearOperator(\n",
        "                task_covar, batch_repeat=X.shape[:-2]\n",
        "            )\n",
        "            task_root = BatchRepeatLinearOperator(\n",
        "                to_linear_operator(task_root), batch_repeat=X.shape[:-2]\n",
        "            )\n",
        "\n",
        "        task_covar_rootlt = RootLinearOperator(task_root)\n",
        "\n",
        "        # construct RR' \\approx Kxx\n",
        "        data_data_covar = self.train_full_covar.linear_ops[0]\n",
        "        # populate the diagonalziation caches for the root and inverse root\n",
        "        # decomposition\n",
        "        data_data_evals, data_data_evecs = data_data_covar.diagonalization()\n",
        "\n",
        "        # pad the eigenvalue and eigenvectors with zeros if we are using lanczos\n",
        "        if data_data_evecs.shape[-1] < data_data_evecs.shape[-2]:\n",
        "            cols_to_add = data_data_evecs.shape[-2] - data_data_evecs.shape[-1]\n",
        "            zero_evecs = torch.zeros(\n",
        "                *data_data_evecs.shape[:-1],\n",
        "                cols_to_add,\n",
        "                dtype=data_data_evals.dtype,\n",
        "                device=data_data_evals.device,\n",
        "            )\n",
        "            zero_evals = torch.zeros(\n",
        "                *data_data_evecs.shape[:-2],\n",
        "                cols_to_add,\n",
        "                dtype=data_data_evals.dtype,\n",
        "                device=data_data_evals.device,\n",
        "            )\n",
        "            data_data_evecs = CatLinearOperator(\n",
        "                data_data_evecs,\n",
        "                to_linear_operator(zero_evecs),\n",
        "                dim=-1,\n",
        "                output_device=data_data_evals.device,\n",
        "            )\n",
        "            data_data_evals = torch.cat((data_data_evals, zero_evals), dim=-1)\n",
        "\n",
        "        # construct K_{xt, x}\n",
        "        test_data_covar = self.covar_module.data_covar_module(X, train_x)\n",
        "        # construct K_{xt, xt}\n",
        "        test_test_covar = self.covar_module.data_covar_module(X)\n",
        "\n",
        "        # now update root so that \\tilde{R}\\tilde{R}' \\approx K_{(x,xt), (x,xt)}\n",
        "        # cloning preserves the gradient history\n",
        "        updated_linear_op = data_data_covar.cat_rows(\n",
        "            cross_mat=test_data_covar.clone(),\n",
        "            new_mat=test_test_covar,\n",
        "            method=\"diagonalization\",\n",
        "        )\n",
        "        updated_root = updated_linear_op.root_decomposition().root\n",
        "        # occasionally, there's device errors so enforce this comes out right\n",
        "        updated_root = updated_root.to(data_data_covar.device)\n",
        "\n",
        "        # build a root decomposition of the joint train/test covariance matrix\n",
        "        # construct (\\tilde{R} \\otimes M)(\\tilde{R} \\otimes M)' \\approx\n",
        "        # (K_{(x,xt), (x,xt)} \\otimes Ktt)\n",
        "        joint_covar = RootLinearOperator(\n",
        "            KroneckerProductLinearOperator(\n",
        "                updated_root, task_covar_rootlt.root.detach()\n",
        "            )\n",
        "        )\n",
        "\n",
        "        # construct K_{xt, x} \\otimes Ktt\n",
        "        test_obs_kernel = KroneckerProductLinearOperator(test_data_covar, task_covar)\n",
        "\n",
        "        # collect y - \\mu(x) and \\mu(X)\n",
        "        train_diff = self.train_targets - self.mean_module(train_x)\n",
        "        if detach_test_caches.on():\n",
        "            train_diff = train_diff.detach()\n",
        "        test_mean = self.mean_module(X)\n",
        "\n",
        "        train_noise = self.likelihood._shaped_noise_covar(train_x.shape)\n",
        "        diagonal_noise = isinstance(train_noise, DiagLinearOperator)\n",
        "        if detach_test_caches.on():\n",
        "            train_noise = train_noise.detach()\n",
        "        test_noise = (\n",
        "            self.likelihood._shaped_noise_covar(X.shape) if observation_noise else None\n",
        "        )\n",
        "\n",
        "        # predictive mean and variance for the mvn\n",
        "        # first the predictive mean\n",
        "        pred_mean = (\n",
        "            test_obs_kernel.matmul(self.predictive_mean_cache).reshape_as(test_mean)\n",
        "            + test_mean\n",
        "        )\n",
        "        # next the predictive variance, assume diagonal noise\n",
        "        test_var_term = KroneckerProductLinearOperator(\n",
        "            test_test_covar, task_covar\n",
        "        ).diag()\n",
        "\n",
        "        if diagonal_noise:\n",
        "            task_evals, task_evecs = self._task_covar_matrix.diagonalization()\n",
        "            # TODO: make this be the default KPMatmulLT diagonal method in gpytorch\n",
        "            full_data_inv_evals = (\n",
        "                KroneckerProductDiagLinearOperator(\n",
        "                    DiagLinearOperator(data_data_evals), DiagLinearOperator(task_evals)\n",
        "                )\n",
        "                + train_noise\n",
        "            ).inverse()\n",
        "            test_train_hadamard = KroneckerProductLinearOperator(\n",
        "                test_data_covar.matmul(data_data_evecs).to_dense() ** 2,\n",
        "                task_covar.matmul(task_evecs).to_dense() ** 2,\n",
        "            )\n",
        "            data_var_term = test_train_hadamard.matmul(full_data_inv_evals).sum(dim=-1)\n",
        "        else:\n",
        "            # if non-diagonal noise (but still kronecker structured), we have to pull\n",
        "            # across the noise because the inverse is not closed form\n",
        "            # should be a kronecker lt, R = \\Sigma_X^{-1/2} \\kron \\Sigma_T^{-1/2}\n",
        "            # TODO: enforce the diagonalization to return a KPLT for all shapes in\n",
        "            # gpytorch or dense linear algebra for small shapes\n",
        "            data_noise, task_noise = train_noise.linear_ops\n",
        "            data_noise_root = data_noise.root_inv_decomposition(\n",
        "                method=\"diagonalization\"\n",
        "            )\n",
        "            task_noise_root = task_noise.root_inv_decomposition(\n",
        "                method=\"diagonalization\"\n",
        "            )\n",
        "\n",
        "            # ultimately we need to compute the diagonal of\n",
        "            # (K_{x* X} \\kron K_T)(K_{XX} \\kron K_T + \\Sigma_X \\kron \\Sigma_T)^{-1}\n",
        "            #                           (K_{x* X} \\kron K_T)^T\n",
        "            # = (K_{x* X} \\Sigma_X^{-1/2} Q_R)(\\Lambda_R + I)^{-1}\n",
        "            #                       (K_{x* X} \\Sigma_X^{-1/2} Q_R)^T\n",
        "            # where R = (\\Sigma_X^{-1/2T}K_{XX}\\Sigma_X^{-1/2} \\kron\n",
        "            #                   \\Sigma_T^{-1/2T}K_{T}\\Sigma_T^{-1/2})\n",
        "            # first we construct the components of R's eigen-decomposition\n",
        "            # TODO: make this be the default KPMatmulLT diagonal method in gpytorch\n",
        "            whitened_data_covar = (\n",
        "                data_noise_root.transpose(-1, -2)\n",
        "                .matmul(data_data_covar)\n",
        "                .matmul(data_noise_root)\n",
        "            )\n",
        "            w_data_evals, w_data_evecs = whitened_data_covar.diagonalization()\n",
        "            whitened_task_covar = (\n",
        "                task_noise_root.transpose(-1, -2)\n",
        "                .matmul(self._task_covar_matrix)\n",
        "                .matmul(task_noise_root)\n",
        "            )\n",
        "            w_task_evals, w_task_evecs = whitened_task_covar.diagonalization()\n",
        "\n",
        "            # we add one to the eigenvalues as above (not just for stability)\n",
        "            full_data_inv_evals = (\n",
        "                KroneckerProductDiagLinearOperator(\n",
        "                    DiagLinearOperator(w_data_evals), DiagLinearOperator(w_task_evals)\n",
        "                )\n",
        "                .add_jitter(1.0)\n",
        "                .inverse()\n",
        "            )\n",
        "\n",
        "            test_data_comp = (\n",
        "                test_data_covar.matmul(data_noise_root).matmul(w_data_evecs).to_dense()\n",
        "                ** 2\n",
        "            )\n",
        "            task_comp = (\n",
        "                task_covar.matmul(task_noise_root).matmul(w_task_evecs).to_dense() ** 2\n",
        "            )\n",
        "\n",
        "            test_train_hadamard = KroneckerProductLinearOperator(\n",
        "                test_data_comp, task_comp\n",
        "            )\n",
        "            data_var_term = test_train_hadamard.matmul(full_data_inv_evals).sum(dim=-1)\n",
        "\n",
        "        pred_variance = test_var_term - data_var_term\n",
        "        specialized_mvn = MultitaskMultivariateNormal(\n",
        "            pred_mean, DiagLinearOperator(pred_variance)\n",
        "        )\n",
        "        if observation_noise:\n",
        "            specialized_mvn = self.likelihood(specialized_mvn)\n",
        "\n",
        "        posterior = MultitaskGPPosterior(\n",
        "            distribution=specialized_mvn,\n",
        "            joint_covariance_matrix=joint_covar,\n",
        "            test_train_covar=test_obs_kernel,\n",
        "            train_diff=train_diff,\n",
        "            test_mean=test_mean,\n",
        "            train_train_covar=self.train_full_covar,\n",
        "            train_noise=train_noise,\n",
        "            test_noise=test_noise,\n",
        "        )\n",
        "\n",
        "        if hasattr(self, \"outcome_transform\"):\n",
        "            posterior = self.outcome_transform.untransform_posterior(posterior)\n",
        "        return posterior\n",
        "\n",
        "\n",
        "    def train(self, val=True, *args, **kwargs):\n",
        "        if val:\n",
        "            fixed_cache_names = [\"data_data_roots\", \"train_full_covar\", \"task_root\"]\n",
        "            for name in fixed_cache_names:\n",
        "                try:\n",
        "                    pop_from_cache(self, name)\n",
        "                except CachingError:\n",
        "                    pass\n",
        "\n",
        "        return super().train(val, *args, **kwargs)"
      ],
      "metadata": {
        "id": "SBwjISC1iQLE"
      },
      "execution_count": 17,
      "outputs": []
    },
    {
      "cell_type": "code",
      "source": [
        "\n",
        "\n",
        "from botorch.models import SingleTaskGP, ModelListGP\n",
        "\n",
        "from gpytorch.mlls.sum_marginal_log_likelihood import ExactMarginalLogLikelihood, SumMarginalLogLikelihood\n",
        "\n",
        "\n",
        "\n",
        "\n",
        "def generate_initial_data():\n",
        "    # generate training data\n",
        "    train_x = torch.rand(10, 6, device=device, dtype=dtype)\n",
        "\n",
        "    #obj = Hartmann(negate=True)\n",
        "    obj = Cosine8()\n",
        "    train_obj = obj(train_x).unsqueeze(-1)  # add output dimension\n",
        "    train_con = outcome_constraint(train_x).unsqueeze(-1)  # add output dimension\n",
        "\n",
        "    #exact_obj = neg_hartmann6(train_x).unsqueeze(-1)  # add output dimension\n",
        "    #exact_con = outcome_constraint(train_x).unsqueeze(-1)  # add output dimension\n",
        "    #train_obj = exact_obj + NOISE_SE * torch.randn_like(exact_obj)\n",
        "    #train_con = exact_con + NOISE_SE * torch.randn_like(exact_con)\n",
        "    \n",
        "    best_observed_value = (train_obj * (train_con <= 0).to(train_obj)).max()\n",
        "    #train_y = torch.cat((train_obj, train_con),1)\n",
        "\n",
        "    return train_x, train_obj, train_con, best_observed_value\n",
        "    \n",
        "    \n",
        "def initialize_model(train_x, train_y, state_dict=None):\n",
        "    \n",
        "    # combine into a multi-output GP model\n",
        "    model = KroneckerMultiTaskGP_m(train_x, train_y, task_covar_prior = InverseWishartPrior(2, torch.eye(2)))\n",
        "\n",
        "    mll = ExactMarginalLogLikelihood(model.likelihood, model)\n",
        "    # load state dict if it is passed\n",
        "    if state_dict is not None:\n",
        "        model.load_state_dict(state_dict)\n",
        "    return model,mll\n",
        "\n",
        "\n",
        "def initialize_independent_model(train_x, train_obj, train_con, state_dict=None):\n",
        "    # define models for objective and constraint\n",
        "    model_obj = SingleTaskGP(train_x, train_obj).to(train_x)\n",
        "    model_con = SingleTaskGP(train_x, train_con).to(train_x)\n",
        "    # combine into a multi-output GP model\n",
        "    model = ModelListGP(model_obj, model_con)\n",
        "    mll = SumMarginalLogLikelihood(model.likelihood, model)\n",
        "    # load state dict if it is passed\n",
        "    if state_dict is not None:\n",
        "        model.load_state_dict(state_dict)\n",
        "    return mll, model"
      ],
      "metadata": {
        "id": "_czUaK_Vn4v2"
      },
      "execution_count": 18,
      "outputs": []
    },
    {
      "cell_type": "code",
      "source": [
        "N_TRIALS = 10 \n",
        "N_BATCH = 10\n",
        "\n",
        "\n",
        "verbose = False\n",
        "\n",
        "best_observed_all_ei = []\n",
        "best_observed_all_ind = []\n",
        "best_random_all = []\n",
        "\n",
        "# average over multiple trials\n",
        "for trial in range(1, N_TRIALS + 1):\n",
        "    \n",
        "    print(f\"\\nTrial {trial:>2} of {N_TRIALS} \", end=\"\")\n",
        "    best_observed_ei = []\n",
        "    best_observed_ind = []\n",
        "    best_random = []\n",
        "    \n",
        "    # call helper functions to generate initial training data and initialize model\n",
        "    train_x_ei, train_obj_ei, train_con_ei, best_observed_value_ei = generate_initial_data()\n",
        "    print(best_observed_value_ei)\n",
        "    train_y_ei = torch.cat((train_obj_ei, train_con_ei),1)\n",
        "   \n",
        "    model_ei, mll_ei = initialize_model(train_x_ei, train_y_ei)\n",
        "\n",
        "    train_x_ind, train_obj_ind, train_con_ind = train_x_ei, train_obj_ei, train_con_ei\n",
        "    best_observed_value_ind = best_observed_value_ei\n",
        "    mll_ind, model_ind = initialize_independent_model(train_x_ind, train_obj_ind, train_con_ind)\n",
        "    \n",
        "\n",
        "\n",
        "    best_observed_ei.append(best_observed_value_ei)\n",
        "    best_random.append(best_observed_value_ei)\n",
        "    best_observed_ind.append(best_observed_value_ei)\n",
        "    \n",
        "    # run N_BATCH rounds of BayesOpt after the initial random batch\n",
        "    for iteration in range(1, N_BATCH + 1):    \n",
        "        \n",
        "        t0 = time.monotonic()\n",
        "        torch.autograd.set_detect_anomaly(True)\n",
        "        fit_gpytorch_torch(mll_ei)\n",
        "        fit_gpytorch_torch(mll_ind)\n",
        "\n",
        "\n",
        "       \n",
        "        # for best_f, we use the best observed noisy values as an approximation\n",
        "        qECI_iteration = qECI(model=model_ei, best_f= (train_obj_ei * (train_con_ei <= 0).to(train_obj_ei)).max())\n",
        "        \n",
        "       \n",
        "        \n",
        "        # optimize and get new observation\n",
        "        new_x_ei, new_obj_ei, new_con_ei = optimize_acqf_and_get_observation(qECI_iteration)\n",
        "     \n",
        "                \n",
        "        # update training points\n",
        "        \n",
        "       \n",
        "        train_x_ei = torch.cat([train_x_ei, new_x_ei])\n",
        "       \n",
        "        train_obj_ei = torch.cat([train_obj_ei, new_obj_ei])\n",
        "        train_con_ei = torch.cat([train_con_ei, new_con_ei])\n",
        "\n",
        "        train_y_ei = torch.cat((train_obj_ei, train_con_ei),1)\n",
        "        # update progress\n",
        "        best_random = update_random_observations(best_random)\n",
        "        best_value_ei = (train_obj_ei * (train_con_ei <= 0).to(train_obj_ei)).max()\n",
        "        best_observed_ei.append(best_value_ei)\n",
        "\n",
        "        print(best_value_ei)\n",
        "        print(best_random)\n",
        "\n",
        "        #define the qEI and qNEI acquisition modules using a QMC sampler\n",
        "        qmc_sampler = SobolQMCNormalSampler(sample_shape=torch.Size([256]))\n",
        "        \n",
        "        # for best_f, we use the best observed noisy values as an approximation\n",
        "        qEI = qExpectedImprovement(\n",
        "            model=model_ind, \n",
        "            best_f=(train_obj_ind * (train_con_ind <= 0).to(train_obj_ind)).max(),\n",
        "            sampler=qmc_sampler, \n",
        "            objective=constrained_obj,\n",
        "        )\n",
        "\n",
        "        # optimize and get new observation\n",
        "        new_x_ind, new_obj_ind, new_con_ind = optimize_acqf_and_get_observation(qEI)\n",
        "\n",
        "        # update training points\n",
        "        train_x_ind = torch.cat([train_x_ind, new_x_ind])\n",
        "        train_obj_ind = torch.cat([train_obj_ind, new_obj_ind])\n",
        "        train_con_ind = torch.cat([train_con_ind, new_con_ind])\n",
        "\n",
        "        best_value_ind = (train_obj_ind * (train_con_ind <= 0).to(train_obj_ind)).max()\n",
        "        best_observed_ind.append(best_value_ind)\n",
        "        print(best_value_ind)\n",
        "\n",
        "\n",
        "        # reinitialize the models so they are ready for fitting on next iteration\n",
        "        # use the current state dict to speed up fitting\n",
        "        model_ei,mll_ei = initialize_model(\n",
        "            train_x_ei, \n",
        "            train_y_ei, \n",
        "        )\n",
        "\n",
        "        mll_ind, model_ind = initialize_independent_model(\n",
        "            train_x_ind, \n",
        "            train_obj_ind, \n",
        "            train_con_ind, \n",
        "            model_ind.state_dict(),\n",
        "        )\n",
        "        \n",
        "       \n",
        "        t1 = time.monotonic()\n",
        "        \n",
        "        if verbose:\n",
        "            print(\n",
        "                f\"\\nBatch {iteration:>2}: best_value (random, qEI, qNEI) = \"\n",
        "                f\"({best_value_ei:>4.2f}), \"\n",
        "                f\"time = {t1-t0:>4.2f}.\", end=\"\"\n",
        "            )\n",
        "        else:\n",
        "            print(\".\", end=\"\")\n",
        "   \n",
        "    best_observed_all_ei.append(best_observed_ei)\n",
        "    best_random_all.append(best_random)\n",
        "    best_observed_all_ind.append(best_observed_ind)"
      ],
      "metadata": {
        "colab": {
          "base_uri": "https://localhost:8080/"
        },
        "id": "Vp88MV4Nn8Mt",
        "outputId": "24ab3dfc-b6bb-4c19-aab3-628b23783cba"
      },
      "execution_count": 19,
      "outputs": [
        {
          "output_type": "stream",
          "name": "stdout",
          "text": [
            "\n",
            "Trial  1 of 10 tensor(-0.7366, dtype=torch.float64)\n",
            "tensor(-0.6400, dtype=torch.float64)\n",
            "[tensor(-0.7366, dtype=torch.float64), tensor(-0.7366, dtype=torch.float64)]\n",
            "tensor(-0.6069, dtype=torch.float64)\n",
            ".tensor(-0.1839, dtype=torch.float64)\n",
            "[tensor(-0.7366, dtype=torch.float64), tensor(-0.7366, dtype=torch.float64), tensor(-0.7366, dtype=torch.float64)]\n",
            "tensor(-0.2258, dtype=torch.float64)\n",
            ".tensor(-0.0849, dtype=torch.float64)\n",
            "[tensor(-0.7366, dtype=torch.float64), tensor(-0.7366, dtype=torch.float64), tensor(-0.7366, dtype=torch.float64), tensor(-0.7366, dtype=torch.float64)]\n",
            "tensor(0.2057, dtype=torch.float64)\n",
            ".tensor(-0.0402, dtype=torch.float64)\n",
            "[tensor(-0.7366, dtype=torch.float64), tensor(-0.7366, dtype=torch.float64), tensor(-0.7366, dtype=torch.float64), tensor(-0.7366, dtype=torch.float64), tensor(-0.7366, dtype=torch.float64)]\n",
            "tensor(0.2954, dtype=torch.float64)\n",
            ".tensor(0.2162, dtype=torch.float64)\n",
            "[tensor(-0.7366, dtype=torch.float64), tensor(-0.7366, dtype=torch.float64), tensor(-0.7366, dtype=torch.float64), tensor(-0.7366, dtype=torch.float64), tensor(-0.7366, dtype=torch.float64), tensor(-0.7366, dtype=torch.float64)]\n",
            "tensor(0.3745, dtype=torch.float64)\n",
            ".tensor(0.2163, dtype=torch.float64)\n",
            "[tensor(-0.7366, dtype=torch.float64), tensor(-0.7366, dtype=torch.float64), tensor(-0.7366, dtype=torch.float64), tensor(-0.7366, dtype=torch.float64), tensor(-0.7366, dtype=torch.float64), tensor(-0.7366, dtype=torch.float64), tensor(-0.7366, dtype=torch.float64)]\n",
            "tensor(0.4329, dtype=torch.float64)\n",
            "."
          ]
        },
        {
          "output_type": "stream",
          "name": "stderr",
          "text": [
            "/usr/local/lib/python3.8/dist-packages/botorch/optim/optimize.py:306: RuntimeWarning: Optimization failed in `gen_candidates_scipy` with the following warning(s):\n",
            "[OptimizationWarning('Optimization failed within `scipy.optimize.minimize` with status 2.')]\n",
            "Trying again with a new set of initial conditions.\n",
            "  warnings.warn(first_warn_msg, RuntimeWarning)\n",
            "/usr/local/lib/python3.8/dist-packages/botorch/optim/optimize.py:328: RuntimeWarning: Optimization failed on the second try, after generating a new set of initial conditions.\n",
            "  warnings.warn(\n"
          ]
        },
        {
          "output_type": "stream",
          "name": "stdout",
          "text": [
            "tensor(0.2163, dtype=torch.float64)\n",
            "[tensor(-0.7366, dtype=torch.float64), tensor(-0.7366, dtype=torch.float64), tensor(-0.7366, dtype=torch.float64), tensor(-0.7366, dtype=torch.float64), tensor(-0.7366, dtype=torch.float64), tensor(-0.7366, dtype=torch.float64), tensor(-0.7366, dtype=torch.float64), tensor(-0.7366, dtype=torch.float64)]\n",
            "tensor(0.4329, dtype=torch.float64)\n",
            "."
          ]
        },
        {
          "output_type": "stream",
          "name": "stderr",
          "text": [
            "/usr/local/lib/python3.8/dist-packages/botorch/optim/optimize.py:306: RuntimeWarning: Optimization failed in `gen_candidates_scipy` with the following warning(s):\n",
            "[OptimizationWarning('Optimization failed within `scipy.optimize.minimize` with status 2.')]\n",
            "Trying again with a new set of initial conditions.\n",
            "  warnings.warn(first_warn_msg, RuntimeWarning)\n",
            "/usr/local/lib/python3.8/dist-packages/botorch/optim/optimize.py:328: RuntimeWarning: Optimization failed on the second try, after generating a new set of initial conditions.\n",
            "  warnings.warn(\n"
          ]
        },
        {
          "output_type": "stream",
          "name": "stdout",
          "text": [
            "tensor(0.2163, dtype=torch.float64)\n",
            "[tensor(-0.7366, dtype=torch.float64), tensor(-0.7366, dtype=torch.float64), tensor(-0.7366, dtype=torch.float64), tensor(-0.7366, dtype=torch.float64), tensor(-0.7366, dtype=torch.float64), tensor(-0.7366, dtype=torch.float64), tensor(-0.7366, dtype=torch.float64), tensor(-0.7366, dtype=torch.float64), tensor(-0.7366, dtype=torch.float64)]\n",
            "tensor(0.4329, dtype=torch.float64)\n",
            "."
          ]
        },
        {
          "output_type": "stream",
          "name": "stderr",
          "text": [
            "/usr/local/lib/python3.8/dist-packages/botorch/optim/optimize.py:306: RuntimeWarning: Optimization failed in `gen_candidates_scipy` with the following warning(s):\n",
            "[OptimizationWarning('Optimization failed within `scipy.optimize.minimize` with status 2.')]\n",
            "Trying again with a new set of initial conditions.\n",
            "  warnings.warn(first_warn_msg, RuntimeWarning)\n"
          ]
        },
        {
          "output_type": "stream",
          "name": "stdout",
          "text": [
            "tensor(0.2163, dtype=torch.float64)\n",
            "[tensor(-0.7366, dtype=torch.float64), tensor(-0.7366, dtype=torch.float64), tensor(-0.7366, dtype=torch.float64), tensor(-0.7366, dtype=torch.float64), tensor(-0.7366, dtype=torch.float64), tensor(-0.7366, dtype=torch.float64), tensor(-0.7366, dtype=torch.float64), tensor(-0.7366, dtype=torch.float64), tensor(-0.7366, dtype=torch.float64), tensor(-0.7366, dtype=torch.float64)]\n",
            "tensor(0.4902, dtype=torch.float64)\n",
            ".tensor(0.2163, dtype=torch.float64)\n",
            "[tensor(-0.7366, dtype=torch.float64), tensor(-0.7366, dtype=torch.float64), tensor(-0.7366, dtype=torch.float64), tensor(-0.7366, dtype=torch.float64), tensor(-0.7366, dtype=torch.float64), tensor(-0.7366, dtype=torch.float64), tensor(-0.7366, dtype=torch.float64), tensor(-0.7366, dtype=torch.float64), tensor(-0.7366, dtype=torch.float64), tensor(-0.7366, dtype=torch.float64), tensor(-0.7366, dtype=torch.float64)]\n",
            "tensor(0.4902, dtype=torch.float64)\n",
            ".\n",
            "Trial  2 of 10 tensor(-1.0298, dtype=torch.float64)\n",
            "tensor(-1.0298, dtype=torch.float64)\n",
            "[tensor(-1.0298, dtype=torch.float64), tensor(-1.0298, dtype=torch.float64)]\n",
            "tensor(-0.5331, dtype=torch.float64)\n",
            "."
          ]
        },
        {
          "output_type": "stream",
          "name": "stderr",
          "text": [
            "/usr/local/lib/python3.8/dist-packages/botorch/optim/optimize.py:306: RuntimeWarning: Optimization failed in `gen_candidates_scipy` with the following warning(s):\n",
            "[NumericalWarning('A not p.d., added jitter of 1.0e-08 to the diagonal'), OptimizationWarning('Optimization failed within `scipy.optimize.minimize` with status 2.')]\n",
            "Trying again with a new set of initial conditions.\n",
            "  warnings.warn(first_warn_msg, RuntimeWarning)\n"
          ]
        },
        {
          "output_type": "stream",
          "name": "stdout",
          "text": [
            "tensor(0., dtype=torch.float64)\n",
            "[tensor(-1.0298, dtype=torch.float64), tensor(-1.0298, dtype=torch.float64), tensor(-1.0298, dtype=torch.float64)]\n",
            "tensor(-0.5331, dtype=torch.float64)\n",
            ".tensor(0., dtype=torch.float64)\n",
            "[tensor(-1.0298, dtype=torch.float64), tensor(-1.0298, dtype=torch.float64), tensor(-1.0298, dtype=torch.float64), -0.8720291256904602]\n",
            "tensor(-0.4240, dtype=torch.float64)\n",
            ".tensor(0.4776, dtype=torch.float64)\n",
            "[tensor(-1.0298, dtype=torch.float64), tensor(-1.0298, dtype=torch.float64), tensor(-1.0298, dtype=torch.float64), -0.8720291256904602, -0.8720291256904602]\n",
            "tensor(-0.2151, dtype=torch.float64)\n",
            ".tensor(0.4776, dtype=torch.float64)\n",
            "[tensor(-1.0298, dtype=torch.float64), tensor(-1.0298, dtype=torch.float64), tensor(-1.0298, dtype=torch.float64), -0.8720291256904602, -0.8720291256904602, -0.8194212317466736]\n",
            "tensor(0.1184, dtype=torch.float64)\n",
            ".tensor(0.4776, dtype=torch.float64)\n",
            "[tensor(-1.0298, dtype=torch.float64), tensor(-1.0298, dtype=torch.float64), tensor(-1.0298, dtype=torch.float64), -0.8720291256904602, -0.8720291256904602, -0.8194212317466736, -0.8194212317466736]\n",
            "tensor(0.2376, dtype=torch.float64)\n",
            "."
          ]
        },
        {
          "output_type": "stream",
          "name": "stderr",
          "text": [
            "/usr/local/lib/python3.8/dist-packages/botorch/optim/optimize.py:306: RuntimeWarning: Optimization failed in `gen_candidates_scipy` with the following warning(s):\n",
            "[OptimizationWarning('Optimization failed within `scipy.optimize.minimize` with status 2.')]\n",
            "Trying again with a new set of initial conditions.\n",
            "  warnings.warn(first_warn_msg, RuntimeWarning)\n"
          ]
        },
        {
          "output_type": "stream",
          "name": "stdout",
          "text": [
            "tensor(0.4776, dtype=torch.float64)\n",
            "[tensor(-1.0298, dtype=torch.float64), tensor(-1.0298, dtype=torch.float64), tensor(-1.0298, dtype=torch.float64), -0.8720291256904602, -0.8720291256904602, -0.8194212317466736, -0.8194212317466736, -0.8194212317466736]\n",
            "tensor(0.2376, dtype=torch.float64)\n",
            "."
          ]
        },
        {
          "output_type": "stream",
          "name": "stderr",
          "text": [
            "/usr/local/lib/python3.8/dist-packages/botorch/optim/optimize.py:306: RuntimeWarning: Optimization failed in `gen_candidates_scipy` with the following warning(s):\n",
            "[OptimizationWarning('Optimization failed within `scipy.optimize.minimize` with status 2.')]\n",
            "Trying again with a new set of initial conditions.\n",
            "  warnings.warn(first_warn_msg, RuntimeWarning)\n",
            "/usr/local/lib/python3.8/dist-packages/botorch/optim/optimize.py:328: RuntimeWarning: Optimization failed on the second try, after generating a new set of initial conditions.\n",
            "  warnings.warn(\n"
          ]
        },
        {
          "output_type": "stream",
          "name": "stdout",
          "text": [
            "tensor(0.4776, dtype=torch.float64)\n",
            "[tensor(-1.0298, dtype=torch.float64), tensor(-1.0298, dtype=torch.float64), tensor(-1.0298, dtype=torch.float64), -0.8720291256904602, -0.8720291256904602, -0.8194212317466736, -0.8194212317466736, -0.8194212317466736, -0.7403824329376221]\n",
            "tensor(0.4054, dtype=torch.float64)\n",
            ".tensor(0.4776, dtype=torch.float64)\n",
            "[tensor(-1.0298, dtype=torch.float64), tensor(-1.0298, dtype=torch.float64), tensor(-1.0298, dtype=torch.float64), -0.8720291256904602, -0.8720291256904602, -0.8194212317466736, -0.8194212317466736, -0.8194212317466736, -0.7403824329376221, -0.7403824329376221]\n",
            "tensor(0.4070, dtype=torch.float64)\n",
            ".tensor(0.4776, dtype=torch.float64)\n",
            "[tensor(-1.0298, dtype=torch.float64), tensor(-1.0298, dtype=torch.float64), tensor(-1.0298, dtype=torch.float64), -0.8720291256904602, -0.8720291256904602, -0.8194212317466736, -0.8194212317466736, -0.8194212317466736, -0.7403824329376221, -0.7403824329376221, -0.7403824329376221]\n",
            "tensor(0.4070, dtype=torch.float64)\n",
            ".\n",
            "Trial  3 of 10 tensor(-0.2700, dtype=torch.float64)\n"
          ]
        },
        {
          "output_type": "stream",
          "name": "stderr",
          "text": [
            "/usr/local/lib/python3.8/dist-packages/botorch/optim/optimize.py:306: RuntimeWarning: Optimization failed in `gen_candidates_scipy` with the following warning(s):\n",
            "[OptimizationWarning('Optimization failed within `scipy.optimize.minimize` with status 2.')]\n",
            "Trying again with a new set of initial conditions.\n",
            "  warnings.warn(first_warn_msg, RuntimeWarning)\n",
            "/usr/local/lib/python3.8/dist-packages/botorch/optim/optimize.py:328: RuntimeWarning: Optimization failed on the second try, after generating a new set of initial conditions.\n",
            "  warnings.warn(\n"
          ]
        },
        {
          "output_type": "stream",
          "name": "stdout",
          "text": [
            "tensor(-0.2002, dtype=torch.float64)\n",
            "[tensor(-0.2700, dtype=torch.float64), tensor(-0.2700, dtype=torch.float64)]\n",
            "tensor(0.1853, dtype=torch.float64)\n",
            ".tensor(0.1487, dtype=torch.float64)\n",
            "[tensor(-0.2700, dtype=torch.float64), tensor(-0.2700, dtype=torch.float64), tensor(-0.2700, dtype=torch.float64)]\n",
            "tensor(0.1853, dtype=torch.float64)\n",
            "."
          ]
        },
        {
          "output_type": "stream",
          "name": "stderr",
          "text": [
            "/usr/local/lib/python3.8/dist-packages/botorch/optim/optimize.py:306: RuntimeWarning: Optimization failed in `gen_candidates_scipy` with the following warning(s):\n",
            "[OptimizationWarning('Optimization failed within `scipy.optimize.minimize` with status 2.')]\n",
            "Trying again with a new set of initial conditions.\n",
            "  warnings.warn(first_warn_msg, RuntimeWarning)\n",
            "/usr/local/lib/python3.8/dist-packages/botorch/optim/optimize.py:328: RuntimeWarning: Optimization failed on the second try, after generating a new set of initial conditions.\n",
            "  warnings.warn(\n"
          ]
        },
        {
          "output_type": "stream",
          "name": "stdout",
          "text": [
            "tensor(0.4515, dtype=torch.float64)\n",
            "[tensor(-0.2700, dtype=torch.float64), tensor(-0.2700, dtype=torch.float64), tensor(-0.2700, dtype=torch.float64), tensor(-0.2700, dtype=torch.float64)]\n",
            "tensor(0.2257, dtype=torch.float64)\n",
            "."
          ]
        },
        {
          "output_type": "stream",
          "name": "stderr",
          "text": [
            "/usr/local/lib/python3.8/dist-packages/botorch/optim/optimize.py:306: RuntimeWarning: Optimization failed in `gen_candidates_scipy` with the following warning(s):\n",
            "[OptimizationWarning('Optimization failed within `scipy.optimize.minimize` with status 2.')]\n",
            "Trying again with a new set of initial conditions.\n",
            "  warnings.warn(first_warn_msg, RuntimeWarning)\n"
          ]
        },
        {
          "output_type": "stream",
          "name": "stdout",
          "text": [
            "tensor(0.4515, dtype=torch.float64)\n",
            "[tensor(-0.2700, dtype=torch.float64), tensor(-0.2700, dtype=torch.float64), tensor(-0.2700, dtype=torch.float64), tensor(-0.2700, dtype=torch.float64), tensor(-0.2700, dtype=torch.float64)]\n",
            "tensor(0.2257, dtype=torch.float64)\n",
            ".tensor(0.4515, dtype=torch.float64)\n",
            "[tensor(-0.2700, dtype=torch.float64), tensor(-0.2700, dtype=torch.float64), tensor(-0.2700, dtype=torch.float64), tensor(-0.2700, dtype=torch.float64), tensor(-0.2700, dtype=torch.float64), tensor(-0.2700, dtype=torch.float64)]\n",
            "tensor(0.3971, dtype=torch.float64)\n",
            "."
          ]
        },
        {
          "output_type": "stream",
          "name": "stderr",
          "text": [
            "/usr/local/lib/python3.8/dist-packages/botorch/optim/optimize.py:306: RuntimeWarning: Optimization failed in `gen_candidates_scipy` with the following warning(s):\n",
            "[OptimizationWarning('Optimization failed within `scipy.optimize.minimize` with status 2.')]\n",
            "Trying again with a new set of initial conditions.\n",
            "  warnings.warn(first_warn_msg, RuntimeWarning)\n",
            "/usr/local/lib/python3.8/dist-packages/botorch/optim/optimize.py:328: RuntimeWarning: Optimization failed on the second try, after generating a new set of initial conditions.\n",
            "  warnings.warn(\n"
          ]
        },
        {
          "output_type": "stream",
          "name": "stdout",
          "text": [
            "tensor(0.4515, dtype=torch.float64)\n",
            "[tensor(-0.2700, dtype=torch.float64), tensor(-0.2700, dtype=torch.float64), tensor(-0.2700, dtype=torch.float64), tensor(-0.2700, dtype=torch.float64), tensor(-0.2700, dtype=torch.float64), tensor(-0.2700, dtype=torch.float64), tensor(-0.2700, dtype=torch.float64)]\n",
            "tensor(0.4974, dtype=torch.float64)\n",
            "."
          ]
        },
        {
          "output_type": "stream",
          "name": "stderr",
          "text": [
            "/usr/local/lib/python3.8/dist-packages/botorch/optim/optimize.py:306: RuntimeWarning: Optimization failed in `gen_candidates_scipy` with the following warning(s):\n",
            "[NumericalWarning('A not p.d., added jitter of 1.0e-08 to the diagonal'), OptimizationWarning('Optimization failed within `scipy.optimize.minimize` with status 2.')]\n",
            "Trying again with a new set of initial conditions.\n",
            "  warnings.warn(first_warn_msg, RuntimeWarning)\n"
          ]
        },
        {
          "output_type": "stream",
          "name": "stdout",
          "text": [
            "tensor(0.4515, dtype=torch.float64)\n",
            "[tensor(-0.2700, dtype=torch.float64), tensor(-0.2700, dtype=torch.float64), tensor(-0.2700, dtype=torch.float64), tensor(-0.2700, dtype=torch.float64), tensor(-0.2700, dtype=torch.float64), tensor(-0.2700, dtype=torch.float64), tensor(-0.2700, dtype=torch.float64), tensor(-0.2700, dtype=torch.float64)]\n",
            "tensor(0.4974, dtype=torch.float64)\n",
            ".tensor(0.4515, dtype=torch.float64)\n",
            "[tensor(-0.2700, dtype=torch.float64), tensor(-0.2700, dtype=torch.float64), tensor(-0.2700, dtype=torch.float64), tensor(-0.2700, dtype=torch.float64), tensor(-0.2700, dtype=torch.float64), tensor(-0.2700, dtype=torch.float64), tensor(-0.2700, dtype=torch.float64), tensor(-0.2700, dtype=torch.float64), -0.16936138272285461]\n",
            "tensor(0.4974, dtype=torch.float64)\n",
            "."
          ]
        },
        {
          "output_type": "stream",
          "name": "stderr",
          "text": [
            "/usr/local/lib/python3.8/dist-packages/botorch/optim/optimize.py:306: RuntimeWarning: Optimization failed in `gen_candidates_scipy` with the following warning(s):\n",
            "[OptimizationWarning('Optimization failed within `scipy.optimize.minimize` with status 2.')]\n",
            "Trying again with a new set of initial conditions.\n",
            "  warnings.warn(first_warn_msg, RuntimeWarning)\n"
          ]
        },
        {
          "output_type": "stream",
          "name": "stdout",
          "text": [
            "tensor(0.4898, dtype=torch.float64)\n",
            "[tensor(-0.2700, dtype=torch.float64), tensor(-0.2700, dtype=torch.float64), tensor(-0.2700, dtype=torch.float64), tensor(-0.2700, dtype=torch.float64), tensor(-0.2700, dtype=torch.float64), tensor(-0.2700, dtype=torch.float64), tensor(-0.2700, dtype=torch.float64), tensor(-0.2700, dtype=torch.float64), -0.16936138272285461, -0.16936138272285461]\n",
            "tensor(0.4974, dtype=torch.float64)\n",
            "."
          ]
        },
        {
          "output_type": "stream",
          "name": "stderr",
          "text": [
            "/usr/local/lib/python3.8/dist-packages/botorch/optim/optimize.py:306: RuntimeWarning: Optimization failed in `gen_candidates_scipy` with the following warning(s):\n",
            "[NumericalWarning('A not p.d., added jitter of 1.0e-08 to the diagonal'), OptimizationWarning('Optimization failed within `scipy.optimize.minimize` with status 2.'), NumericalWarning('A not p.d., added jitter of 1.0e-08 to the diagonal'), NumericalWarning('A not p.d., added jitter of 1.0e-08 to the diagonal'), OptimizationWarning('Optimization failed within `scipy.optimize.minimize` with status 2.'), NumericalWarning('A not p.d., added jitter of 1.0e-08 to the diagonal')]\n",
            "Trying again with a new set of initial conditions.\n",
            "  warnings.warn(first_warn_msg, RuntimeWarning)\n"
          ]
        },
        {
          "output_type": "stream",
          "name": "stdout",
          "text": [
            "tensor(0.4898, dtype=torch.float64)\n",
            "[tensor(-0.2700, dtype=torch.float64), tensor(-0.2700, dtype=torch.float64), tensor(-0.2700, dtype=torch.float64), tensor(-0.2700, dtype=torch.float64), tensor(-0.2700, dtype=torch.float64), tensor(-0.2700, dtype=torch.float64), tensor(-0.2700, dtype=torch.float64), tensor(-0.2700, dtype=torch.float64), -0.16936138272285461, -0.16936138272285461, -0.16936138272285461]\n",
            "tensor(0.4974, dtype=torch.float64)\n",
            ".\n",
            "Trial  4 of 10 tensor(-0.5482, dtype=torch.float64)\n",
            "tensor(-0.5482, dtype=torch.float64)\n",
            "[tensor(-0.5482, dtype=torch.float64), tensor(-0.5482, dtype=torch.float64)]\n",
            "tensor(-0.5482, dtype=torch.float64)\n",
            ".tensor(-0.3176, dtype=torch.float64)\n",
            "[tensor(-0.5482, dtype=torch.float64), tensor(-0.5482, dtype=torch.float64), -0.4175974130630493]\n",
            "tensor(-0.2138, dtype=torch.float64)\n",
            ".tensor(0.0373, dtype=torch.float64)\n",
            "[tensor(-0.5482, dtype=torch.float64), tensor(-0.5482, dtype=torch.float64), -0.4175974130630493, -0.4175974130630493]\n",
            "tensor(-0.0657, dtype=torch.float64)\n",
            ".tensor(0.4330, dtype=torch.float64)\n",
            "[tensor(-0.5482, dtype=torch.float64), tensor(-0.5482, dtype=torch.float64), -0.4175974130630493, -0.4175974130630493, -0.4175974130630493]\n",
            "tensor(0.0860, dtype=torch.float64)\n",
            ".tensor(0.4330, dtype=torch.float64)\n",
            "[tensor(-0.5482, dtype=torch.float64), tensor(-0.5482, dtype=torch.float64), -0.4175974130630493, -0.4175974130630493, -0.4175974130630493, -0.4175974130630493]\n",
            "tensor(0.3002, dtype=torch.float64)\n",
            ".tensor(0.4330, dtype=torch.float64)\n",
            "[tensor(-0.5482, dtype=torch.float64), tensor(-0.5482, dtype=torch.float64), -0.4175974130630493, -0.4175974130630493, -0.4175974130630493, -0.4175974130630493, -0.4175974130630493]\n",
            "tensor(0.4522, dtype=torch.float64)\n",
            "."
          ]
        },
        {
          "output_type": "stream",
          "name": "stderr",
          "text": [
            "/usr/local/lib/python3.8/dist-packages/botorch/optim/optimize.py:306: RuntimeWarning: Optimization failed in `gen_candidates_scipy` with the following warning(s):\n",
            "[NumericalWarning('A not p.d., added jitter of 1.0e-08 to the diagonal'), OptimizationWarning('Optimization failed within `scipy.optimize.minimize` with status 2.'), NumericalWarning('A not p.d., added jitter of 1.0e-08 to the diagonal')]\n",
            "Trying again with a new set of initial conditions.\n",
            "  warnings.warn(first_warn_msg, RuntimeWarning)\n"
          ]
        },
        {
          "output_type": "stream",
          "name": "stdout",
          "text": [
            "tensor(0.4330, dtype=torch.float64)\n",
            "[tensor(-0.5482, dtype=torch.float64), tensor(-0.5482, dtype=torch.float64), -0.4175974130630493, -0.4175974130630493, -0.4175974130630493, -0.4175974130630493, -0.4175974130630493, -0.4175974130630493]\n",
            "tensor(0.4522, dtype=torch.float64)\n",
            "."
          ]
        },
        {
          "output_type": "stream",
          "name": "stderr",
          "text": [
            "/usr/local/lib/python3.8/dist-packages/botorch/optim/optimize.py:306: RuntimeWarning: Optimization failed in `gen_candidates_scipy` with the following warning(s):\n",
            "[OptimizationWarning('Optimization failed within `scipy.optimize.minimize` with status 2.')]\n",
            "Trying again with a new set of initial conditions.\n",
            "  warnings.warn(first_warn_msg, RuntimeWarning)\n",
            "/usr/local/lib/python3.8/dist-packages/botorch/optim/optimize.py:328: RuntimeWarning: Optimization failed on the second try, after generating a new set of initial conditions.\n",
            "  warnings.warn(\n"
          ]
        },
        {
          "output_type": "stream",
          "name": "stdout",
          "text": [
            "tensor(0.4330, dtype=torch.float64)\n",
            "[tensor(-0.5482, dtype=torch.float64), tensor(-0.5482, dtype=torch.float64), -0.4175974130630493, -0.4175974130630493, -0.4175974130630493, -0.4175974130630493, -0.4175974130630493, -0.4175974130630493, -0.4175974130630493]\n",
            "tensor(0.4522, dtype=torch.float64)\n",
            ".tensor(0.4330, dtype=torch.float64)\n",
            "[tensor(-0.5482, dtype=torch.float64), tensor(-0.5482, dtype=torch.float64), -0.4175974130630493, -0.4175974130630493, -0.4175974130630493, -0.4175974130630493, -0.4175974130630493, -0.4175974130630493, -0.4175974130630493, -0.4175974130630493]\n",
            "tensor(0.4522, dtype=torch.float64)\n",
            ".tensor(0.4330, dtype=torch.float64)\n",
            "[tensor(-0.5482, dtype=torch.float64), tensor(-0.5482, dtype=torch.float64), -0.4175974130630493, -0.4175974130630493, -0.4175974130630493, -0.4175974130630493, -0.4175974130630493, -0.4175974130630493, -0.4175974130630493, -0.4175974130630493, -0.4175974130630493]\n",
            "tensor(0.4522, dtype=torch.float64)\n",
            ".\n",
            "Trial  5 of 10 tensor(-1.4346, dtype=torch.float64)\n",
            "tensor(-1.1021, dtype=torch.float64)\n",
            "[tensor(-1.4346, dtype=torch.float64), tensor(-1.4346, dtype=torch.float64)]\n",
            "tensor(-1.1003, dtype=torch.float64)\n",
            ".tensor(-0.9644, dtype=torch.float64)\n",
            "[tensor(-1.4346, dtype=torch.float64), tensor(-1.4346, dtype=torch.float64), tensor(-1.4346, dtype=torch.float64)]\n",
            "tensor(-0.6714, dtype=torch.float64)\n",
            ".tensor(-0.9644, dtype=torch.float64)\n",
            "[tensor(-1.4346, dtype=torch.float64), tensor(-1.4346, dtype=torch.float64), tensor(-1.4346, dtype=torch.float64), -1.2730791568756104]\n",
            "tensor(-0.6714, dtype=torch.float64)\n",
            ".tensor(0., dtype=torch.float64)\n",
            "[tensor(-1.4346, dtype=torch.float64), tensor(-1.4346, dtype=torch.float64), tensor(-1.4346, dtype=torch.float64), -1.2730791568756104, -1.2730791568756104]\n",
            "tensor(-0.5779, dtype=torch.float64)\n",
            "."
          ]
        },
        {
          "output_type": "stream",
          "name": "stderr",
          "text": [
            "/usr/local/lib/python3.8/dist-packages/botorch/optim/optimize.py:306: RuntimeWarning: Optimization failed in `gen_candidates_scipy` with the following warning(s):\n",
            "[NumericalWarning('A not p.d., added jitter of 1.0e-08 to the diagonal'), OptimizationWarning('Optimization failed within `scipy.optimize.minimize` with status 2.'), NumericalWarning('A not p.d., added jitter of 1.0e-08 to the diagonal'), OptimizationWarning('Optimization failed within `scipy.optimize.minimize` with status 2.')]\n",
            "Trying again with a new set of initial conditions.\n",
            "  warnings.warn(first_warn_msg, RuntimeWarning)\n",
            "/usr/local/lib/python3.8/dist-packages/botorch/optim/optimize.py:328: RuntimeWarning: Optimization failed on the second try, after generating a new set of initial conditions.\n",
            "  warnings.warn(\n"
          ]
        },
        {
          "output_type": "stream",
          "name": "stdout",
          "text": [
            "tensor(0., dtype=torch.float64)\n",
            "[tensor(-1.4346, dtype=torch.float64), tensor(-1.4346, dtype=torch.float64), tensor(-1.4346, dtype=torch.float64), -1.2730791568756104, -1.2730791568756104, -0.5045345425605774]\n",
            "tensor(-0.4077, dtype=torch.float64)\n",
            ".tensor(0., dtype=torch.float64)\n",
            "[tensor(-1.4346, dtype=torch.float64), tensor(-1.4346, dtype=torch.float64), tensor(-1.4346, dtype=torch.float64), -1.2730791568756104, -1.2730791568756104, -0.5045345425605774, -0.5045345425605774]\n",
            "tensor(-0.1388, dtype=torch.float64)\n",
            "."
          ]
        },
        {
          "output_type": "stream",
          "name": "stderr",
          "text": [
            "/usr/local/lib/python3.8/dist-packages/botorch/optim/optimize.py:306: RuntimeWarning: Optimization failed in `gen_candidates_scipy` with the following warning(s):\n",
            "[OptimizationWarning('Optimization failed within `scipy.optimize.minimize` with status 2.')]\n",
            "Trying again with a new set of initial conditions.\n",
            "  warnings.warn(first_warn_msg, RuntimeWarning)\n"
          ]
        },
        {
          "output_type": "stream",
          "name": "stdout",
          "text": [
            "tensor(0.3631, dtype=torch.float64)\n",
            "[tensor(-1.4346, dtype=torch.float64), tensor(-1.4346, dtype=torch.float64), tensor(-1.4346, dtype=torch.float64), -1.2730791568756104, -1.2730791568756104, -0.5045345425605774, -0.5045345425605774, -0.5045345425605774]\n",
            "tensor(-0.1182, dtype=torch.float64)\n",
            "."
          ]
        },
        {
          "output_type": "stream",
          "name": "stderr",
          "text": [
            "/usr/local/lib/python3.8/dist-packages/botorch/optim/optimize.py:306: RuntimeWarning: Optimization failed in `gen_candidates_scipy` with the following warning(s):\n",
            "[NumericalWarning('A not p.d., added jitter of 1.0e-08 to the diagonal'), OptimizationWarning('Optimization failed within `scipy.optimize.minimize` with status 2.')]\n",
            "Trying again with a new set of initial conditions.\n",
            "  warnings.warn(first_warn_msg, RuntimeWarning)\n",
            "/usr/local/lib/python3.8/dist-packages/botorch/optim/optimize.py:328: RuntimeWarning: Optimization failed on the second try, after generating a new set of initial conditions.\n",
            "  warnings.warn(\n"
          ]
        },
        {
          "output_type": "stream",
          "name": "stdout",
          "text": [
            "tensor(0.4404, dtype=torch.float64)\n",
            "[tensor(-1.4346, dtype=torch.float64), tensor(-1.4346, dtype=torch.float64), tensor(-1.4346, dtype=torch.float64), -1.2730791568756104, -1.2730791568756104, -0.5045345425605774, -0.5045345425605774, -0.5045345425605774, -0.5045345425605774]\n",
            "tensor(-0.0869, dtype=torch.float64)\n",
            ".tensor(0.4404, dtype=torch.float64)\n",
            "[tensor(-1.4346, dtype=torch.float64), tensor(-1.4346, dtype=torch.float64), tensor(-1.4346, dtype=torch.float64), -1.2730791568756104, -1.2730791568756104, -0.5045345425605774, -0.5045345425605774, -0.5045345425605774, -0.5045345425605774, -0.5045345425605774]\n",
            "tensor(-0.0461, dtype=torch.float64)\n",
            "."
          ]
        },
        {
          "output_type": "stream",
          "name": "stderr",
          "text": [
            "/usr/local/lib/python3.8/dist-packages/botorch/optim/optimize.py:306: RuntimeWarning: Optimization failed in `gen_candidates_scipy` with the following warning(s):\n",
            "[OptimizationWarning('Optimization failed within `scipy.optimize.minimize` with status 2.')]\n",
            "Trying again with a new set of initial conditions.\n",
            "  warnings.warn(first_warn_msg, RuntimeWarning)\n",
            "/usr/local/lib/python3.8/dist-packages/botorch/optim/optimize.py:328: RuntimeWarning: Optimization failed on the second try, after generating a new set of initial conditions.\n",
            "  warnings.warn(\n"
          ]
        },
        {
          "output_type": "stream",
          "name": "stdout",
          "text": [
            "tensor(0.4404, dtype=torch.float64)\n",
            "[tensor(-1.4346, dtype=torch.float64), tensor(-1.4346, dtype=torch.float64), tensor(-1.4346, dtype=torch.float64), -1.2730791568756104, -1.2730791568756104, -0.5045345425605774, -0.5045345425605774, -0.5045345425605774, -0.5045345425605774, -0.5045345425605774, -0.5045345425605774]\n",
            "tensor(-0.0461, dtype=torch.float64)\n",
            ".\n",
            "Trial  6 of 10 tensor(-0.3481, dtype=torch.float64)\n"
          ]
        },
        {
          "output_type": "stream",
          "name": "stderr",
          "text": [
            "/usr/local/lib/python3.8/dist-packages/botorch/optim/optimize.py:306: RuntimeWarning: Optimization failed in `gen_candidates_scipy` with the following warning(s):\n",
            "[OptimizationWarning('Optimization failed within `scipy.optimize.minimize` with status 2.')]\n",
            "Trying again with a new set of initial conditions.\n",
            "  warnings.warn(first_warn_msg, RuntimeWarning)\n",
            "/usr/local/lib/python3.8/dist-packages/botorch/optim/optimize.py:328: RuntimeWarning: Optimization failed on the second try, after generating a new set of initial conditions.\n",
            "  warnings.warn(\n"
          ]
        },
        {
          "output_type": "stream",
          "name": "stdout",
          "text": [
            "tensor(-0.3481, dtype=torch.float64)\n",
            "[tensor(-0.3481, dtype=torch.float64), tensor(-0.3481, dtype=torch.float64)]\n",
            "tensor(-0.2646, dtype=torch.float64)\n",
            "."
          ]
        },
        {
          "output_type": "stream",
          "name": "stderr",
          "text": [
            "/usr/local/lib/python3.8/dist-packages/botorch/optim/optimize.py:306: RuntimeWarning: Optimization failed in `gen_candidates_scipy` with the following warning(s):\n",
            "[OptimizationWarning('Optimization failed within `scipy.optimize.minimize` with status 2.')]\n",
            "Trying again with a new set of initial conditions.\n",
            "  warnings.warn(first_warn_msg, RuntimeWarning)\n",
            "/usr/local/lib/python3.8/dist-packages/botorch/optim/optimize.py:328: RuntimeWarning: Optimization failed on the second try, after generating a new set of initial conditions.\n",
            "  warnings.warn(\n"
          ]
        },
        {
          "output_type": "stream",
          "name": "stdout",
          "text": [
            "tensor(-0.3481, dtype=torch.float64)\n",
            "[tensor(-0.3481, dtype=torch.float64), tensor(-0.3481, dtype=torch.float64), tensor(-0.3481, dtype=torch.float64)]\n",
            "tensor(-0.2646, dtype=torch.float64)\n",
            ".tensor(0.0532, dtype=torch.float64)\n",
            "[tensor(-0.3481, dtype=torch.float64), tensor(-0.3481, dtype=torch.float64), tensor(-0.3481, dtype=torch.float64), tensor(-0.3481, dtype=torch.float64)]\n",
            "tensor(-0.0814, dtype=torch.float64)\n",
            ".tensor(0.2779, dtype=torch.float64)\n",
            "[tensor(-0.3481, dtype=torch.float64), tensor(-0.3481, dtype=torch.float64), tensor(-0.3481, dtype=torch.float64), tensor(-0.3481, dtype=torch.float64), tensor(-0.3481, dtype=torch.float64)]\n",
            "tensor(-0.0574, dtype=torch.float64)\n",
            ".tensor(0.2779, dtype=torch.float64)\n",
            "[tensor(-0.3481, dtype=torch.float64), tensor(-0.3481, dtype=torch.float64), tensor(-0.3481, dtype=torch.float64), tensor(-0.3481, dtype=torch.float64), tensor(-0.3481, dtype=torch.float64), tensor(-0.3481, dtype=torch.float64)]\n",
            "tensor(0.1019, dtype=torch.float64)\n",
            ".tensor(0.2779, dtype=torch.float64)\n",
            "[tensor(-0.3481, dtype=torch.float64), tensor(-0.3481, dtype=torch.float64), tensor(-0.3481, dtype=torch.float64), tensor(-0.3481, dtype=torch.float64), tensor(-0.3481, dtype=torch.float64), tensor(-0.3481, dtype=torch.float64), tensor(-0.3481, dtype=torch.float64)]\n",
            "tensor(0.2282, dtype=torch.float64)\n",
            ".tensor(0.4510, dtype=torch.float64)\n",
            "[tensor(-0.3481, dtype=torch.float64), tensor(-0.3481, dtype=torch.float64), tensor(-0.3481, dtype=torch.float64), tensor(-0.3481, dtype=torch.float64), tensor(-0.3481, dtype=torch.float64), tensor(-0.3481, dtype=torch.float64), tensor(-0.3481, dtype=torch.float64), tensor(-0.3481, dtype=torch.float64)]\n",
            "tensor(0.3088, dtype=torch.float64)\n",
            ".tensor(0.4510, dtype=torch.float64)\n",
            "[tensor(-0.3481, dtype=torch.float64), tensor(-0.3481, dtype=torch.float64), tensor(-0.3481, dtype=torch.float64), tensor(-0.3481, dtype=torch.float64), tensor(-0.3481, dtype=torch.float64), tensor(-0.3481, dtype=torch.float64), tensor(-0.3481, dtype=torch.float64), tensor(-0.3481, dtype=torch.float64), tensor(-0.3481, dtype=torch.float64)]\n",
            "tensor(0.3694, dtype=torch.float64)\n",
            ".tensor(0.4510, dtype=torch.float64)\n",
            "[tensor(-0.3481, dtype=torch.float64), tensor(-0.3481, dtype=torch.float64), tensor(-0.3481, dtype=torch.float64), tensor(-0.3481, dtype=torch.float64), tensor(-0.3481, dtype=torch.float64), tensor(-0.3481, dtype=torch.float64), tensor(-0.3481, dtype=torch.float64), tensor(-0.3481, dtype=torch.float64), tensor(-0.3481, dtype=torch.float64), tensor(-0.3481, dtype=torch.float64)]\n",
            "tensor(0.4208, dtype=torch.float64)\n",
            ".tensor(0.4510, dtype=torch.float64)\n",
            "[tensor(-0.3481, dtype=torch.float64), tensor(-0.3481, dtype=torch.float64), tensor(-0.3481, dtype=torch.float64), tensor(-0.3481, dtype=torch.float64), tensor(-0.3481, dtype=torch.float64), tensor(-0.3481, dtype=torch.float64), tensor(-0.3481, dtype=torch.float64), tensor(-0.3481, dtype=torch.float64), tensor(-0.3481, dtype=torch.float64), tensor(-0.3481, dtype=torch.float64), tensor(-0.3481, dtype=torch.float64)]\n",
            "tensor(0.4208, dtype=torch.float64)\n",
            ".\n",
            "Trial  7 of 10 tensor(-0.5469, dtype=torch.float64)\n",
            "tensor(-0.4378, dtype=torch.float64)\n",
            "[tensor(-0.5469, dtype=torch.float64), -0.2443864941596985]\n",
            "tensor(-0.5469, dtype=torch.float64)\n",
            ".tensor(-0.3347, dtype=torch.float64)\n",
            "[tensor(-0.5469, dtype=torch.float64), -0.2443864941596985, -0.2443864941596985]\n",
            "tensor(-0.5469, dtype=torch.float64)\n",
            ".tensor(-0.3347, dtype=torch.float64)\n",
            "[tensor(-0.5469, dtype=torch.float64), -0.2443864941596985, -0.2443864941596985, -0.2443864941596985]\n",
            "tensor(-0.5006, dtype=torch.float64)\n",
            ".tensor(-0.3023, dtype=torch.float64)\n",
            "[tensor(-0.5469, dtype=torch.float64), -0.2443864941596985, -0.2443864941596985, -0.2443864941596985, -0.2443864941596985]\n",
            "tensor(-0.3942, dtype=torch.float64)\n",
            ".tensor(-0.1468, dtype=torch.float64)\n",
            "[tensor(-0.5469, dtype=torch.float64), -0.2443864941596985, -0.2443864941596985, -0.2443864941596985, -0.2443864941596985, -0.2443864941596985]\n",
            "tensor(-0.3942, dtype=torch.float64)\n",
            "."
          ]
        },
        {
          "output_type": "stream",
          "name": "stderr",
          "text": [
            "/usr/local/lib/python3.8/dist-packages/botorch/optim/optimize.py:306: RuntimeWarning: Optimization failed in `gen_candidates_scipy` with the following warning(s):\n",
            "[OptimizationWarning('Optimization failed within `scipy.optimize.minimize` with status 2.')]\n",
            "Trying again with a new set of initial conditions.\n",
            "  warnings.warn(first_warn_msg, RuntimeWarning)\n",
            "/usr/local/lib/python3.8/dist-packages/botorch/optim/optimize.py:328: RuntimeWarning: Optimization failed on the second try, after generating a new set of initial conditions.\n",
            "  warnings.warn(\n"
          ]
        },
        {
          "output_type": "stream",
          "name": "stdout",
          "text": [
            "tensor(0.2315, dtype=torch.float64)\n",
            "[tensor(-0.5469, dtype=torch.float64), -0.2443864941596985, -0.2443864941596985, -0.2443864941596985, -0.2443864941596985, -0.2443864941596985, -0.2443864941596985]\n",
            "tensor(-0.0971, dtype=torch.float64)\n",
            "."
          ]
        },
        {
          "output_type": "stream",
          "name": "stderr",
          "text": [
            "/usr/local/lib/python3.8/dist-packages/botorch/optim/optimize.py:306: RuntimeWarning: Optimization failed in `gen_candidates_scipy` with the following warning(s):\n",
            "[OptimizationWarning('Optimization failed within `scipy.optimize.minimize` with status 2.')]\n",
            "Trying again with a new set of initial conditions.\n",
            "  warnings.warn(first_warn_msg, RuntimeWarning)\n",
            "/usr/local/lib/python3.8/dist-packages/botorch/optim/optimize.py:328: RuntimeWarning: Optimization failed on the second try, after generating a new set of initial conditions.\n",
            "  warnings.warn(\n"
          ]
        },
        {
          "output_type": "stream",
          "name": "stdout",
          "text": [
            "tensor(0.4472, dtype=torch.float64)\n",
            "[tensor(-0.5469, dtype=torch.float64), -0.2443864941596985, -0.2443864941596985, -0.2443864941596985, -0.2443864941596985, -0.2443864941596985, -0.2443864941596985, -0.2443864941596985]\n",
            "tensor(0.0679, dtype=torch.float64)\n",
            ".tensor(0.4472, dtype=torch.float64)\n",
            "[tensor(-0.5469, dtype=torch.float64), -0.2443864941596985, -0.2443864941596985, -0.2443864941596985, -0.2443864941596985, -0.2443864941596985, -0.2443864941596985, -0.2443864941596985, -0.2443864941596985]\n",
            "tensor(0.0679, dtype=torch.float64)\n",
            "."
          ]
        },
        {
          "output_type": "stream",
          "name": "stderr",
          "text": [
            "/usr/local/lib/python3.8/dist-packages/botorch/optim/optimize.py:306: RuntimeWarning: Optimization failed in `gen_candidates_scipy` with the following warning(s):\n",
            "[OptimizationWarning('Optimization failed within `scipy.optimize.minimize` with status 2.')]\n",
            "Trying again with a new set of initial conditions.\n",
            "  warnings.warn(first_warn_msg, RuntimeWarning)\n",
            "/usr/local/lib/python3.8/dist-packages/botorch/optim/optimize.py:328: RuntimeWarning: Optimization failed on the second try, after generating a new set of initial conditions.\n",
            "  warnings.warn(\n"
          ]
        },
        {
          "output_type": "stream",
          "name": "stdout",
          "text": [
            "tensor(0.4472, dtype=torch.float64)\n",
            "[tensor(-0.5469, dtype=torch.float64), -0.2443864941596985, -0.2443864941596985, -0.2443864941596985, -0.2443864941596985, -0.2443864941596985, -0.2443864941596985, -0.2443864941596985, -0.2443864941596985, -0.2443864941596985]\n",
            "tensor(0.2595, dtype=torch.float64)\n",
            ".tensor(0.4472, dtype=torch.float64)\n",
            "[tensor(-0.5469, dtype=torch.float64), -0.2443864941596985, -0.2443864941596985, -0.2443864941596985, -0.2443864941596985, -0.2443864941596985, -0.2443864941596985, -0.2443864941596985, -0.2443864941596985, -0.2443864941596985, -0.2443864941596985]\n",
            "tensor(0.2595, dtype=torch.float64)\n",
            ".\n",
            "Trial  8 of 10 tensor(-1.0579, dtype=torch.float64)\n",
            "tensor(-0.6356, dtype=torch.float64)\n",
            "[tensor(-1.0579, dtype=torch.float64), tensor(-1.0579, dtype=torch.float64)]\n",
            "tensor(-0.9478, dtype=torch.float64)\n",
            ".tensor(-0.5280, dtype=torch.float64)\n",
            "[tensor(-1.0579, dtype=torch.float64), tensor(-1.0579, dtype=torch.float64), tensor(-1.0579, dtype=torch.float64)]\n",
            "tensor(-0.5535, dtype=torch.float64)\n",
            ".tensor(-0.1398, dtype=torch.float64)\n",
            "[tensor(-1.0579, dtype=torch.float64), tensor(-1.0579, dtype=torch.float64), tensor(-1.0579, dtype=torch.float64), -0.8839031457901001]\n",
            "tensor(-0.2662, dtype=torch.float64)\n",
            "."
          ]
        },
        {
          "output_type": "stream",
          "name": "stderr",
          "text": [
            "/usr/local/lib/python3.8/dist-packages/botorch/optim/optimize.py:306: RuntimeWarning: Optimization failed in `gen_candidates_scipy` with the following warning(s):\n",
            "[OptimizationWarning('Optimization failed within `scipy.optimize.minimize` with status 2.')]\n",
            "Trying again with a new set of initial conditions.\n",
            "  warnings.warn(first_warn_msg, RuntimeWarning)\n"
          ]
        },
        {
          "output_type": "stream",
          "name": "stdout",
          "text": [
            "tensor(-0.1398, dtype=torch.float64)\n",
            "[tensor(-1.0579, dtype=torch.float64), tensor(-1.0579, dtype=torch.float64), tensor(-1.0579, dtype=torch.float64), -0.8839031457901001, -0.8839031457901001]\n",
            "tensor(-0.2662, dtype=torch.float64)\n",
            ".tensor(-0.1077, dtype=torch.float64)\n",
            "[tensor(-1.0579, dtype=torch.float64), tensor(-1.0579, dtype=torch.float64), tensor(-1.0579, dtype=torch.float64), -0.8839031457901001, -0.8839031457901001, -0.8839031457901001]\n",
            "tensor(-0.0198, dtype=torch.float64)\n",
            ".tensor(0.1142, dtype=torch.float64)\n",
            "[tensor(-1.0579, dtype=torch.float64), tensor(-1.0579, dtype=torch.float64), tensor(-1.0579, dtype=torch.float64), -0.8839031457901001, -0.8839031457901001, -0.8839031457901001, -0.8839031457901001]\n",
            "tensor(-0.0198, dtype=torch.float64)\n",
            ".tensor(0.4174, dtype=torch.float64)\n",
            "[tensor(-1.0579, dtype=torch.float64), tensor(-1.0579, dtype=torch.float64), tensor(-1.0579, dtype=torch.float64), -0.8839031457901001, -0.8839031457901001, -0.8839031457901001, -0.8839031457901001, -0.8839031457901001]\n",
            "tensor(-0.0198, dtype=torch.float64)\n",
            "."
          ]
        },
        {
          "output_type": "stream",
          "name": "stderr",
          "text": [
            "/usr/local/lib/python3.8/dist-packages/botorch/optim/optimize.py:306: RuntimeWarning: Optimization failed in `gen_candidates_scipy` with the following warning(s):\n",
            "[OptimizationWarning('Optimization failed within `scipy.optimize.minimize` with status 2.')]\n",
            "Trying again with a new set of initial conditions.\n",
            "  warnings.warn(first_warn_msg, RuntimeWarning)\n"
          ]
        },
        {
          "output_type": "stream",
          "name": "stdout",
          "text": [
            "tensor(0.4913, dtype=torch.float64)\n",
            "[tensor(-1.0579, dtype=torch.float64), tensor(-1.0579, dtype=torch.float64), tensor(-1.0579, dtype=torch.float64), -0.8839031457901001, -0.8839031457901001, -0.8839031457901001, -0.8839031457901001, -0.8839031457901001, -0.8839031457901001]\n",
            "tensor(-0.0198, dtype=torch.float64)\n",
            "."
          ]
        },
        {
          "output_type": "stream",
          "name": "stderr",
          "text": [
            "/usr/local/lib/python3.8/dist-packages/botorch/optim/optimize.py:306: RuntimeWarning: Optimization failed in `gen_candidates_scipy` with the following warning(s):\n",
            "[OptimizationWarning('Optimization failed within `scipy.optimize.minimize` with status 2.'), OptimizationWarning('Optimization failed within `scipy.optimize.minimize` with status 2.')]\n",
            "Trying again with a new set of initial conditions.\n",
            "  warnings.warn(first_warn_msg, RuntimeWarning)\n",
            "/usr/local/lib/python3.8/dist-packages/botorch/optim/optimize.py:328: RuntimeWarning: Optimization failed on the second try, after generating a new set of initial conditions.\n",
            "  warnings.warn(\n"
          ]
        },
        {
          "output_type": "stream",
          "name": "stdout",
          "text": [
            "tensor(0.4913, dtype=torch.float64)\n",
            "[tensor(-1.0579, dtype=torch.float64), tensor(-1.0579, dtype=torch.float64), tensor(-1.0579, dtype=torch.float64), -0.8839031457901001, -0.8839031457901001, -0.8839031457901001, -0.8839031457901001, -0.8839031457901001, -0.8839031457901001, -0.8839031457901001]\n",
            "tensor(-0.0198, dtype=torch.float64)\n",
            ".tensor(0.4913, dtype=torch.float64)\n",
            "[tensor(-1.0579, dtype=torch.float64), tensor(-1.0579, dtype=torch.float64), tensor(-1.0579, dtype=torch.float64), -0.8839031457901001, -0.8839031457901001, -0.8839031457901001, -0.8839031457901001, -0.8839031457901001, -0.8839031457901001, -0.8839031457901001, -0.8839031457901001]\n",
            "tensor(0.0603, dtype=torch.float64)\n",
            ".\n",
            "Trial  9 of 10 tensor(-1.1194, dtype=torch.float64)\n",
            "tensor(-0.7840, dtype=torch.float64)\n",
            "[tensor(-1.1194, dtype=torch.float64), tensor(-1.1194, dtype=torch.float64)]\n",
            "tensor(-0.5267, dtype=torch.float64)\n",
            ".tensor(-0.4012, dtype=torch.float64)\n",
            "[tensor(-1.1194, dtype=torch.float64), tensor(-1.1194, dtype=torch.float64), tensor(-1.1194, dtype=torch.float64)]\n",
            "tensor(-0.4003, dtype=torch.float64)\n",
            ".tensor(-0.3418, dtype=torch.float64)\n",
            "[tensor(-1.1194, dtype=torch.float64), tensor(-1.1194, dtype=torch.float64), tensor(-1.1194, dtype=torch.float64), tensor(-1.1194, dtype=torch.float64)]\n",
            "tensor(-0.0036, dtype=torch.float64)\n",
            ".tensor(-0.3371, dtype=torch.float64)\n",
            "[tensor(-1.1194, dtype=torch.float64), tensor(-1.1194, dtype=torch.float64), tensor(-1.1194, dtype=torch.float64), tensor(-1.1194, dtype=torch.float64), tensor(-1.1194, dtype=torch.float64)]\n",
            "tensor(0.2319, dtype=torch.float64)\n",
            ".tensor(-0.2310, dtype=torch.float64)\n",
            "[tensor(-1.1194, dtype=torch.float64), tensor(-1.1194, dtype=torch.float64), tensor(-1.1194, dtype=torch.float64), tensor(-1.1194, dtype=torch.float64), tensor(-1.1194, dtype=torch.float64), tensor(-1.1194, dtype=torch.float64)]\n",
            "tensor(0.3981, dtype=torch.float64)\n",
            ".tensor(-0.0241, dtype=torch.float64)\n",
            "[tensor(-1.1194, dtype=torch.float64), tensor(-1.1194, dtype=torch.float64), tensor(-1.1194, dtype=torch.float64), tensor(-1.1194, dtype=torch.float64), tensor(-1.1194, dtype=torch.float64), tensor(-1.1194, dtype=torch.float64), tensor(-1.1194, dtype=torch.float64)]\n",
            "tensor(0.4484, dtype=torch.float64)\n",
            "."
          ]
        },
        {
          "output_type": "stream",
          "name": "stderr",
          "text": [
            "/usr/local/lib/python3.8/dist-packages/botorch/optim/optimize.py:306: RuntimeWarning: Optimization failed in `gen_candidates_scipy` with the following warning(s):\n",
            "[OptimizationWarning('Optimization failed within `scipy.optimize.minimize` with status 2.')]\n",
            "Trying again with a new set of initial conditions.\n",
            "  warnings.warn(first_warn_msg, RuntimeWarning)\n",
            "/usr/local/lib/python3.8/dist-packages/botorch/optim/optimize.py:328: RuntimeWarning: Optimization failed on the second try, after generating a new set of initial conditions.\n",
            "  warnings.warn(\n"
          ]
        },
        {
          "output_type": "stream",
          "name": "stdout",
          "text": [
            "tensor(-0.0010, dtype=torch.float64)\n",
            "[tensor(-1.1194, dtype=torch.float64), tensor(-1.1194, dtype=torch.float64), tensor(-1.1194, dtype=torch.float64), tensor(-1.1194, dtype=torch.float64), tensor(-1.1194, dtype=torch.float64), tensor(-1.1194, dtype=torch.float64), tensor(-1.1194, dtype=torch.float64), tensor(-1.1194, dtype=torch.float64)]\n",
            "tensor(0.4484, dtype=torch.float64)\n",
            "."
          ]
        },
        {
          "output_type": "stream",
          "name": "stderr",
          "text": [
            "/usr/local/lib/python3.8/dist-packages/botorch/optim/optimize.py:306: RuntimeWarning: Optimization failed in `gen_candidates_scipy` with the following warning(s):\n",
            "[OptimizationWarning('Optimization failed within `scipy.optimize.minimize` with status 2.')]\n",
            "Trying again with a new set of initial conditions.\n",
            "  warnings.warn(first_warn_msg, RuntimeWarning)\n",
            "/usr/local/lib/python3.8/dist-packages/botorch/optim/optimize.py:328: RuntimeWarning: Optimization failed on the second try, after generating a new set of initial conditions.\n",
            "  warnings.warn(\n"
          ]
        },
        {
          "output_type": "stream",
          "name": "stdout",
          "text": [
            "tensor(0.2251, dtype=torch.float64)\n",
            "[tensor(-1.1194, dtype=torch.float64), tensor(-1.1194, dtype=torch.float64), tensor(-1.1194, dtype=torch.float64), tensor(-1.1194, dtype=torch.float64), tensor(-1.1194, dtype=torch.float64), tensor(-1.1194, dtype=torch.float64), tensor(-1.1194, dtype=torch.float64), tensor(-1.1194, dtype=torch.float64), tensor(-1.1194, dtype=torch.float64)]\n",
            "tensor(0.4484, dtype=torch.float64)\n",
            ".tensor(0.4254, dtype=torch.float64)\n",
            "[tensor(-1.1194, dtype=torch.float64), tensor(-1.1194, dtype=torch.float64), tensor(-1.1194, dtype=torch.float64), tensor(-1.1194, dtype=torch.float64), tensor(-1.1194, dtype=torch.float64), tensor(-1.1194, dtype=torch.float64), tensor(-1.1194, dtype=torch.float64), tensor(-1.1194, dtype=torch.float64), tensor(-1.1194, dtype=torch.float64), -0.9280710816383362]\n",
            "tensor(0.4484, dtype=torch.float64)\n",
            "."
          ]
        },
        {
          "output_type": "stream",
          "name": "stderr",
          "text": [
            "/usr/local/lib/python3.8/dist-packages/botorch/optim/optimize.py:306: RuntimeWarning: Optimization failed in `gen_candidates_scipy` with the following warning(s):\n",
            "[OptimizationWarning('Optimization failed within `scipy.optimize.minimize` with status 2.')]\n",
            "Trying again with a new set of initial conditions.\n",
            "  warnings.warn(first_warn_msg, RuntimeWarning)\n"
          ]
        },
        {
          "output_type": "stream",
          "name": "stdout",
          "text": [
            "tensor(0.4500, dtype=torch.float64)\n",
            "[tensor(-1.1194, dtype=torch.float64), tensor(-1.1194, dtype=torch.float64), tensor(-1.1194, dtype=torch.float64), tensor(-1.1194, dtype=torch.float64), tensor(-1.1194, dtype=torch.float64), tensor(-1.1194, dtype=torch.float64), tensor(-1.1194, dtype=torch.float64), tensor(-1.1194, dtype=torch.float64), tensor(-1.1194, dtype=torch.float64), -0.9280710816383362, -0.9280710816383362]\n",
            "tensor(0.4484, dtype=torch.float64)\n",
            ".\n",
            "Trial 10 of 10 tensor(-0.6662, dtype=torch.float64)\n",
            "tensor(-0.6029, dtype=torch.float64)\n",
            "[tensor(-0.6662, dtype=torch.float64), tensor(-0.6662, dtype=torch.float64)]\n",
            "tensor(-0.4830, dtype=torch.float64)\n",
            ".tensor(-0.3611, dtype=torch.float64)\n",
            "[tensor(-0.6662, dtype=torch.float64), tensor(-0.6662, dtype=torch.float64), -0.2650241255760193]\n",
            "tensor(-0.2600, dtype=torch.float64)\n",
            ".tensor(-0.3082, dtype=torch.float64)\n",
            "[tensor(-0.6662, dtype=torch.float64), tensor(-0.6662, dtype=torch.float64), -0.2650241255760193, -0.2650241255760193]\n",
            "tensor(0.0241, dtype=torch.float64)\n",
            ".tensor(-0.2554, dtype=torch.float64)\n",
            "[tensor(-0.6662, dtype=torch.float64), tensor(-0.6662, dtype=torch.float64), -0.2650241255760193, -0.2650241255760193, -0.2650241255760193]\n",
            "tensor(0.0592, dtype=torch.float64)\n",
            ".tensor(-0.2110, dtype=torch.float64)\n",
            "[tensor(-0.6662, dtype=torch.float64), tensor(-0.6662, dtype=torch.float64), -0.2650241255760193, -0.2650241255760193, -0.2650241255760193, -0.2650241255760193]\n",
            "tensor(0.1241, dtype=torch.float64)\n",
            ".tensor(-0.2110, dtype=torch.float64)\n",
            "[tensor(-0.6662, dtype=torch.float64), tensor(-0.6662, dtype=torch.float64), -0.2650241255760193, -0.2650241255760193, -0.2650241255760193, -0.2650241255760193, -0.2650241255760193]\n",
            "tensor(0.4401, dtype=torch.float64)\n",
            ".tensor(-0.2110, dtype=torch.float64)\n",
            "[tensor(-0.6662, dtype=torch.float64), tensor(-0.6662, dtype=torch.float64), -0.2650241255760193, -0.2650241255760193, -0.2650241255760193, -0.2650241255760193, -0.2650241255760193, -0.2650241255760193]\n",
            "tensor(0.4401, dtype=torch.float64)\n",
            "."
          ]
        },
        {
          "output_type": "stream",
          "name": "stderr",
          "text": [
            "/usr/local/lib/python3.8/dist-packages/botorch/optim/optimize.py:306: RuntimeWarning: Optimization failed in `gen_candidates_scipy` with the following warning(s):\n",
            "[OptimizationWarning('Optimization failed within `scipy.optimize.minimize` with status 2.')]\n",
            "Trying again with a new set of initial conditions.\n",
            "  warnings.warn(first_warn_msg, RuntimeWarning)\n",
            "/usr/local/lib/python3.8/dist-packages/botorch/optim/optimize.py:328: RuntimeWarning: Optimization failed on the second try, after generating a new set of initial conditions.\n",
            "  warnings.warn(\n"
          ]
        },
        {
          "output_type": "stream",
          "name": "stdout",
          "text": [
            "tensor(0.3108, dtype=torch.float64)\n",
            "[tensor(-0.6662, dtype=torch.float64), tensor(-0.6662, dtype=torch.float64), -0.2650241255760193, -0.2650241255760193, -0.2650241255760193, -0.2650241255760193, -0.2650241255760193, -0.2650241255760193, -0.2650241255760193]\n",
            "tensor(0.4401, dtype=torch.float64)\n",
            "."
          ]
        },
        {
          "output_type": "stream",
          "name": "stderr",
          "text": [
            "/usr/local/lib/python3.8/dist-packages/botorch/optim/optimize.py:306: RuntimeWarning: Optimization failed in `gen_candidates_scipy` with the following warning(s):\n",
            "[OptimizationWarning('Optimization failed within `scipy.optimize.minimize` with status 2.')]\n",
            "Trying again with a new set of initial conditions.\n",
            "  warnings.warn(first_warn_msg, RuntimeWarning)\n"
          ]
        },
        {
          "output_type": "stream",
          "name": "stdout",
          "text": [
            "tensor(0.4109, dtype=torch.float64)\n",
            "[tensor(-0.6662, dtype=torch.float64), tensor(-0.6662, dtype=torch.float64), -0.2650241255760193, -0.2650241255760193, -0.2650241255760193, -0.2650241255760193, -0.2650241255760193, -0.2650241255760193, -0.2650241255760193, -0.2650241255760193]\n",
            "tensor(0.4403, dtype=torch.float64)\n",
            "."
          ]
        },
        {
          "output_type": "stream",
          "name": "stderr",
          "text": [
            "/usr/local/lib/python3.8/dist-packages/botorch/optim/optimize.py:306: RuntimeWarning: Optimization failed in `gen_candidates_scipy` with the following warning(s):\n",
            "[OptimizationWarning('Optimization failed within `scipy.optimize.minimize` with status 2.')]\n",
            "Trying again with a new set of initial conditions.\n",
            "  warnings.warn(first_warn_msg, RuntimeWarning)\n",
            "/usr/local/lib/python3.8/dist-packages/botorch/optim/optimize.py:328: RuntimeWarning: Optimization failed on the second try, after generating a new set of initial conditions.\n",
            "  warnings.warn(\n"
          ]
        },
        {
          "output_type": "stream",
          "name": "stdout",
          "text": [
            "tensor(0.4109, dtype=torch.float64)\n",
            "[tensor(-0.6662, dtype=torch.float64), tensor(-0.6662, dtype=torch.float64), -0.2650241255760193, -0.2650241255760193, -0.2650241255760193, -0.2650241255760193, -0.2650241255760193, -0.2650241255760193, -0.2650241255760193, -0.2650241255760193, -0.2650241255760193]\n",
            "tensor(0.4403, dtype=torch.float64)\n",
            "."
          ]
        }
      ]
    },
    {
      "cell_type": "code",
      "source": [
        "import numpy as np\n",
        "from matplotlib import pyplot as plt\n",
        "%matplotlib inline\n",
        "\n",
        "\n",
        "def ci(y):\n",
        "    return 1.96 * y.std(axis=0) / np.sqrt(N_TRIALS)\n",
        "\n",
        "\n",
        "obj = Cosine8()\n",
        "#obj = Hartmann(negate=True, dim=6)\n",
        "GLOBAL_MAXIMUM = obj.optimal_value\n",
        "\n",
        "print(GLOBAL_MAXIMUM)\n",
        "\n",
        "iters = np.arange(N_BATCH + 1) * BATCH_SIZE\n",
        "y_ei = np.asarray(best_observed_all_ei)\n",
        "y_rnd = np.asarray(best_random_all)\n",
        "y_ind = np.asarray(best_observed_all_ind)\n",
        "\n",
        "\n",
        "fig, ax = plt.subplots(1, 1, figsize=(8, 6))\n",
        "\n",
        "ax.errorbar(iters, y_rnd.mean(axis=0), yerr=ci(y_rnd), label=\"random\", linewidth=1.5)\n",
        "ax.errorbar(iters, y_ei.mean(axis=0), yerr=ci(y_ei), label=\"qECI\", linewidth=1.5)\n",
        "ax.errorbar(iters, y_ind.mean(axis=0), yerr=ci(y_ind), label=\"qEI\", linewidth=1.5)\n",
        "\n",
        "plt.plot([0, N_BATCH * BATCH_SIZE], [GLOBAL_MAXIMUM] * 2, 'k', label=\"true best objective\", linewidth=2)\n",
        "#ax.set_ylim(bottom=0.5)\n",
        "ax.set(xlabel='number of observations (beyond initial points)', ylabel='best objective value')\n",
        "ax.legend(loc=\"lower right\")"
      ],
      "metadata": {
        "id": "g4Y9aXUioxgJ",
        "colab": {
          "base_uri": "https://localhost:8080/",
          "height": 424
        },
        "outputId": "857cba30-a8df-4d3d-9ff2-182a2523f06c"
      },
      "execution_count": 23,
      "outputs": [
        {
          "output_type": "stream",
          "name": "stdout",
          "text": [
            "0.8\n"
          ]
        },
        {
          "output_type": "execute_result",
          "data": {
            "text/plain": [
              "<matplotlib.legend.Legend at 0x7fb779321b20>"
            ]
          },
          "metadata": {},
          "execution_count": 23
        },
        {
          "output_type": "display_data",
          "data": {
            "text/plain": [
              "<Figure size 576x432 with 1 Axes>"
            ],
            "image/png": "[encoded data removed]"
          },
          "metadata": {
            "needs_background": "light"
          }
        }
      ]
    },
    {
      "cell_type": "code",
      "source": [],
      "metadata": {
        "id": "hU5WQ-zoWrFp"
      },
      "execution_count": 20,
      "outputs": []
    }
  ]
}